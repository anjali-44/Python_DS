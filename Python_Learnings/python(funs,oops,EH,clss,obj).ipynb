{
 "cells": [
  {
   "cell_type": "markdown",
   "id": "0d4c40b8",
   "metadata": {},
   "source": [
    "#### Functions"
   ]
  },
  {
   "cell_type": "code",
   "execution_count": 1,
   "id": "d1a9e823",
   "metadata": {},
   "outputs": [],
   "source": [
    "def hello():\n",
    "    print(\"Hello Welcome\")"
   ]
  },
  {
   "cell_type": "code",
   "execution_count": 2,
   "id": "bf38776b",
   "metadata": {},
   "outputs": [
    {
     "name": "stdout",
     "output_type": "stream",
     "text": [
      "Hello Welcome\n"
     ]
    }
   ],
   "source": [
    "hello()"
   ]
  },
  {
   "cell_type": "code",
   "execution_count": 3,
   "id": "c77e86a6",
   "metadata": {},
   "outputs": [],
   "source": [
    "def add(num1,num2):\n",
    "    return num1+num2"
   ]
  },
  {
   "cell_type": "code",
   "execution_count": 4,
   "id": "5abb6129",
   "metadata": {},
   "outputs": [
    {
     "data": {
      "text/plain": [
       "68"
      ]
     },
     "execution_count": 4,
     "metadata": {},
     "output_type": "execute_result"
    }
   ],
   "source": [
    "add(23,45)"
   ]
  },
  {
   "cell_type": "code",
   "execution_count": 5,
   "id": "036974ee",
   "metadata": {},
   "outputs": [],
   "source": [
    "val = add(23,45)"
   ]
  },
  {
   "cell_type": "code",
   "execution_count": 6,
   "id": "9c301fae",
   "metadata": {},
   "outputs": [
    {
     "data": {
      "text/plain": [
       "68"
      ]
     },
     "execution_count": 6,
     "metadata": {},
     "output_type": "execute_result"
    }
   ],
   "source": [
    "val"
   ]
  },
  {
   "cell_type": "code",
   "execution_count": 7,
   "id": "f80ba348",
   "metadata": {},
   "outputs": [],
   "source": [
    "# positional and keyword arguments"
   ]
  },
  {
   "cell_type": "code",
   "execution_count": 11,
   "id": "d8f21585",
   "metadata": {},
   "outputs": [],
   "source": [
    "# parameter \"name\" here is positional argument not specified\n",
    "#any value\n",
    "# \"age=20\" is keyword argument\n",
    "def hello(name,age=20):\n",
    "    print(\"My name is {} and age is {}\".format(name,age))"
   ]
  },
  {
   "cell_type": "code",
   "execution_count": 12,
   "id": "5826dd8c",
   "metadata": {},
   "outputs": [
    {
     "name": "stdout",
     "output_type": "stream",
     "text": [
      "My name is Anjali and age is 20\n"
     ]
    }
   ],
   "source": [
    "hello('Anjali')"
   ]
  },
  {
   "cell_type": "code",
   "execution_count": 10,
   "id": "a2a14010",
   "metadata": {},
   "outputs": [
    {
     "name": "stdout",
     "output_type": "stream",
     "text": [
      "My name is Anjali and age is 19\n"
     ]
    }
   ],
   "source": [
    "hello('Anjali', 19)"
   ]
  },
  {
   "cell_type": "code",
   "execution_count": 13,
   "id": "c5cfae6b",
   "metadata": {},
   "outputs": [],
   "source": [
    "# another way of defining functions\n",
    "\n",
    "def hello(*args, **kwargs):\n",
    "    print(args)\n",
    "    print(kwargs)"
   ]
  },
  {
   "cell_type": "code",
   "execution_count": 14,
   "id": "e73d3ec0",
   "metadata": {},
   "outputs": [
    {
     "name": "stdout",
     "output_type": "stream",
     "text": [
      "('Anjali', 'Sharma')\n",
      "{'age': 20}\n"
     ]
    }
   ],
   "source": [
    "hello('Anjali','Sharma',age=20)"
   ]
  },
  {
   "cell_type": "code",
   "execution_count": 16,
   "id": "39ec990b",
   "metadata": {},
   "outputs": [],
   "source": [
    "lst = ['Anjali', 'Sharma']\n",
    "dict_args = {'age': 20}"
   ]
  },
  {
   "cell_type": "code",
   "execution_count": 17,
   "id": "1e2f11c7",
   "metadata": {},
   "outputs": [
    {
     "name": "stdout",
     "output_type": "stream",
     "text": [
      "(['Anjali', 'Sharma'], {'age': 20})\n",
      "{}\n"
     ]
    }
   ],
   "source": [
    "hello(lst,dict_args)\n",
    "# by default it is taking both these arguments as args"
   ]
  },
  {
   "cell_type": "code",
   "execution_count": 18,
   "id": "96b412ed",
   "metadata": {},
   "outputs": [
    {
     "name": "stdout",
     "output_type": "stream",
     "text": [
      "('Anjali', 'Sharma')\n",
      "{'age': 20}\n"
     ]
    }
   ],
   "source": [
    "# so we nwwd to specify this\n",
    "hello(*lst, **dict_args)"
   ]
  },
  {
   "cell_type": "code",
   "execution_count": null,
   "id": "601045b0",
   "metadata": {},
   "outputs": [],
   "source": []
  },
  {
   "cell_type": "code",
   "execution_count": 19,
   "id": "c587a829",
   "metadata": {},
   "outputs": [],
   "source": [
    "lst = [1,2,3,4,5,6,7,8]"
   ]
  },
  {
   "cell_type": "code",
   "execution_count": 20,
   "id": "4c954533",
   "metadata": {},
   "outputs": [],
   "source": [
    "def even_odd_sum(lst):\n",
    "    even_sum=0\n",
    "    odd_sum=0\n",
    "    \n",
    "    for i in lst:\n",
    "        if i%2==0:\n",
    "            even_sum=even_sum+i\n",
    "        else:\n",
    "            odd_sum=odd_sum+i\n",
    "    return even_sum, odd_sum"
   ]
  },
  {
   "cell_type": "code",
   "execution_count": 21,
   "id": "5ba610cd",
   "metadata": {},
   "outputs": [
    {
     "data": {
      "text/plain": [
       "(20, 16)"
      ]
     },
     "execution_count": 21,
     "metadata": {},
     "output_type": "execute_result"
    }
   ],
   "source": [
    "even_odd_sum(lst)"
   ]
  },
  {
   "cell_type": "code",
   "execution_count": null,
   "id": "8e40f233",
   "metadata": {},
   "outputs": [],
   "source": []
  },
  {
   "cell_type": "markdown",
   "id": "127e8bca",
   "metadata": {},
   "source": [
    "#### Lambda Functions(Anonymous function)"
   ]
  },
  {
   "cell_type": "code",
   "execution_count": 22,
   "id": "dfe6d0d5",
   "metadata": {},
   "outputs": [],
   "source": [
    "# works faster than a normal function"
   ]
  },
  {
   "cell_type": "code",
   "execution_count": 23,
   "id": "1d545540",
   "metadata": {},
   "outputs": [],
   "source": [
    "# a function with no name"
   ]
  },
  {
   "cell_type": "code",
   "execution_count": 24,
   "id": "6beae92f",
   "metadata": {},
   "outputs": [],
   "source": [
    "def addition(a,b):\n",
    "    return a+b\n"
   ]
  },
  {
   "cell_type": "code",
   "execution_count": 25,
   "id": "930e99ff",
   "metadata": {},
   "outputs": [
    {
     "data": {
      "text/plain": [
       "14"
      ]
     },
     "execution_count": 25,
     "metadata": {},
     "output_type": "execute_result"
    }
   ],
   "source": [
    "addition(5,9)"
   ]
  },
  {
   "cell_type": "code",
   "execution_count": 27,
   "id": "d2e812e8",
   "metadata": {},
   "outputs": [],
   "source": [
    "## if you have a single expression that you need to return\n",
    "# inside a function then you can use lambda function"
   ]
  },
  {
   "cell_type": "code",
   "execution_count": 28,
   "id": "b75c958b",
   "metadata": {},
   "outputs": [],
   "source": [
    "# Syntax:keyword lambda inputvariables : operation to perform\n",
    "addition = lambda a,b:a+b"
   ]
  },
  {
   "cell_type": "code",
   "execution_count": 29,
   "id": "c355c38e",
   "metadata": {},
   "outputs": [
    {
     "data": {
      "text/plain": [
       "28"
      ]
     },
     "execution_count": 29,
     "metadata": {},
     "output_type": "execute_result"
    }
   ],
   "source": [
    "addition(12,16)"
   ]
  },
  {
   "cell_type": "code",
   "execution_count": 30,
   "id": "a8c2c70c",
   "metadata": {},
   "outputs": [
    {
     "data": {
      "text/plain": [
       "<function __main__.<lambda>(a, b)>"
      ]
     },
     "execution_count": 30,
     "metadata": {},
     "output_type": "execute_result"
    }
   ],
   "source": [
    "lambda a,b : add(a+b)"
   ]
  },
  {
   "cell_type": "code",
   "execution_count": 31,
   "id": "c2ac183c",
   "metadata": {},
   "outputs": [
    {
     "data": {
      "text/plain": [
       "28"
      ]
     },
     "execution_count": 31,
     "metadata": {},
     "output_type": "execute_result"
    }
   ],
   "source": [
    "add(12,16)"
   ]
  },
  {
   "cell_type": "code",
   "execution_count": 32,
   "id": "33d85a82",
   "metadata": {},
   "outputs": [],
   "source": [
    "def even(num):\n",
    "    if num%2 == 0:\n",
    "        return True"
   ]
  },
  {
   "cell_type": "code",
   "execution_count": 33,
   "id": "b9004d68",
   "metadata": {},
   "outputs": [
    {
     "data": {
      "text/plain": [
       "True"
      ]
     },
     "execution_count": 33,
     "metadata": {},
     "output_type": "execute_result"
    }
   ],
   "source": [
    "even(24)"
   ]
  },
  {
   "cell_type": "code",
   "execution_count": 34,
   "id": "3d789e2f",
   "metadata": {},
   "outputs": [],
   "source": [
    "even = lambda a : a%2 == 0"
   ]
  },
  {
   "cell_type": "code",
   "execution_count": 35,
   "id": "08335b9a",
   "metadata": {},
   "outputs": [
    {
     "data": {
      "text/plain": [
       "True"
      ]
     },
     "execution_count": 35,
     "metadata": {},
     "output_type": "execute_result"
    }
   ],
   "source": [
    "even(8)"
   ]
  },
  {
   "cell_type": "markdown",
   "id": "d413fb1e",
   "metadata": {},
   "source": [
    "def addition(x,y,z):\n",
    "    return x+y+z"
   ]
  },
  {
   "cell_type": "code",
   "execution_count": 37,
   "id": "90277616",
   "metadata": {},
   "outputs": [
    {
     "data": {
      "text/plain": [
       "9"
      ]
     },
     "execution_count": 37,
     "metadata": {},
     "output_type": "execute_result"
    }
   ],
   "source": [
    "addition(2,3,4)"
   ]
  },
  {
   "cell_type": "code",
   "execution_count": 40,
   "id": "8f7773dc",
   "metadata": {},
   "outputs": [
    {
     "data": {
      "text/plain": [
       "<function __main__.<lambda>(x, y, z)>"
      ]
     },
     "execution_count": 40,
     "metadata": {},
     "output_type": "execute_result"
    }
   ],
   "source": [
    "lambda x,y,z : addition(x+y+z)"
   ]
  },
  {
   "cell_type": "code",
   "execution_count": 41,
   "id": "756b4a1c",
   "metadata": {},
   "outputs": [
    {
     "data": {
      "text/plain": [
       "9"
      ]
     },
     "execution_count": 41,
     "metadata": {},
     "output_type": "execute_result"
    }
   ],
   "source": [
    "addition(2,3,4)"
   ]
  },
  {
   "cell_type": "markdown",
   "id": "48d321be",
   "metadata": {},
   "source": [
    "#### Map Functions in python"
   ]
  },
  {
   "cell_type": "code",
   "execution_count": 44,
   "id": "6e28e737",
   "metadata": {},
   "outputs": [],
   "source": [
    "def even_odd(num):\n",
    "    if num%2 == 0:\n",
    "        return \"The {} is even.\".format(num)\n",
    "    else:\n",
    "        return \"The {} is odd\".format(num)"
   ]
  },
  {
   "cell_type": "code",
   "execution_count": 45,
   "id": "875ba0a2",
   "metadata": {},
   "outputs": [
    {
     "data": {
      "text/plain": [
       "'The 9 is odd'"
      ]
     },
     "execution_count": 45,
     "metadata": {},
     "output_type": "execute_result"
    }
   ],
   "source": [
    "even_odd(9)"
   ]
  },
  {
   "cell_type": "code",
   "execution_count": 47,
   "id": "d0b88c86",
   "metadata": {},
   "outputs": [],
   "source": [
    "# applying same condition for multiple values \n",
    "# as we can pass only one parameter in our function def\n",
    "lst = [1,2,4,4535,456,7,8658,84564,1143,2147,56724,41414]"
   ]
  },
  {
   "cell_type": "code",
   "execution_count": 51,
   "id": "bdbcf331",
   "metadata": {
    "scrolled": true
   },
   "outputs": [
    {
     "data": {
      "text/plain": [
       "<map at 0x19a36e79e40>"
      ]
     },
     "execution_count": 51,
     "metadata": {},
     "output_type": "execute_result"
    }
   ],
   "source": [
    "map(even_odd, lst)\n",
    "## memory still not instantiated "
   ]
  },
  {
   "cell_type": "code",
   "execution_count": 56,
   "id": "06482868",
   "metadata": {},
   "outputs": [],
   "source": [
    "# to instantiate the memory we will use list\n",
    "result = map(even_odd, lst)"
   ]
  },
  {
   "cell_type": "code",
   "execution_count": 57,
   "id": "f023cfa5",
   "metadata": {},
   "outputs": [
    {
     "data": {
      "text/plain": [
       "<map at 0x19a37026e60>"
      ]
     },
     "execution_count": 57,
     "metadata": {},
     "output_type": "execute_result"
    }
   ],
   "source": [
    "result"
   ]
  },
  {
   "cell_type": "code",
   "execution_count": null,
   "id": "85dc59c7",
   "metadata": {},
   "outputs": [],
   "source": []
  },
  {
   "cell_type": "markdown",
   "id": "be8f2447",
   "metadata": {},
   "source": [
    "#### Filter Function in Pyhton"
   ]
  },
  {
   "cell_type": "code",
   "execution_count": 61,
   "id": "15c14b2c",
   "metadata": {},
   "outputs": [],
   "source": [
    "def even(num):\n",
    "    if num%2 == 0:\n",
    "        return True"
   ]
  },
  {
   "cell_type": "code",
   "execution_count": 62,
   "id": "780ff53d",
   "metadata": {},
   "outputs": [],
   "source": [
    "lst = [1,2,3,4,5,6,7,8,9,10]"
   ]
  },
  {
   "cell_type": "code",
   "execution_count": 66,
   "id": "878d9271",
   "metadata": {},
   "outputs": [
    {
     "ename": "TypeError",
     "evalue": "'list' object is not callable",
     "output_type": "error",
     "traceback": [
      "\u001b[1;31m---------------------------------------------------------------------------\u001b[0m",
      "\u001b[1;31mTypeError\u001b[0m                                 Traceback (most recent call last)",
      "Cell \u001b[1;32mIn[66], line 3\u001b[0m\n\u001b[0;32m      1\u001b[0m \u001b[38;5;66;03m# apply htis for a list of elements\u001b[39;00m\n\u001b[1;32m----> 3\u001b[0m \u001b[38;5;28mlist\u001b[39m(\u001b[38;5;28mfilter\u001b[39m(even,lst))\n",
      "\u001b[1;31mTypeError\u001b[0m: 'list' object is not callable"
     ]
    }
   ],
   "source": [
    "# apply htis for a list of elements\n",
    "\n",
    "list(filter(even,lst))\n",
    "# this will get the of numbers that are even"
   ]
  },
  {
   "cell_type": "code",
   "execution_count": 69,
   "id": "10e57593",
   "metadata": {},
   "outputs": [
    {
     "ename": "TypeError",
     "evalue": "'list' object is not callable",
     "output_type": "error",
     "traceback": [
      "\u001b[1;31m---------------------------------------------------------------------------\u001b[0m",
      "\u001b[1;31mTypeError\u001b[0m                                 Traceback (most recent call last)",
      "Cell \u001b[1;32mIn[69], line 1\u001b[0m\n\u001b[1;32m----> 1\u001b[0m \u001b[38;5;28mlist\u001b[39m(\u001b[38;5;28mfilter\u001b[39m(\u001b[38;5;28;01mlambda\u001b[39;00m num: num \u001b[38;5;241m%\u001b[39m \u001b[38;5;241m2\u001b[39m \u001b[38;5;241m==\u001b[39m \u001b[38;5;241m0\u001b[39m, lst))\n",
      "\u001b[1;31mTypeError\u001b[0m: 'list' object is not callable"
     ]
    }
   ],
   "source": [
    "list(filter(lambda num: num % 2 == 0, lst))"
   ]
  },
  {
   "cell_type": "code",
   "execution_count": 71,
   "id": "8427ddac",
   "metadata": {},
   "outputs": [
    {
     "ename": "TypeError",
     "evalue": "'list' object is not callable",
     "output_type": "error",
     "traceback": [
      "\u001b[1;31m---------------------------------------------------------------------------\u001b[0m",
      "\u001b[1;31mTypeError\u001b[0m                                 Traceback (most recent call last)",
      "Cell \u001b[1;32mIn[71], line 1\u001b[0m\n\u001b[1;32m----> 1\u001b[0m \u001b[38;5;28mlist\u001b[39m(\u001b[38;5;28mmap\u001b[39m(\u001b[38;5;28;01mlambda\u001b[39;00m num: num \u001b[38;5;241m%\u001b[39m \u001b[38;5;241m2\u001b[39m \u001b[38;5;241m==\u001b[39m \u001b[38;5;241m0\u001b[39m, lst))\n",
      "\u001b[1;31mTypeError\u001b[0m: 'list' object is not callable"
     ]
    }
   ],
   "source": [
    "list(map(lambda num: num % 2 == 0, lst))\n",
    "# this will give list of True and False"
   ]
  },
  {
   "cell_type": "markdown",
   "id": "24a9fc1f",
   "metadata": {},
   "source": [
    "### List Comprehensions"
   ]
  },
  {
   "cell_type": "code",
   "execution_count": 72,
   "id": "bbd21036",
   "metadata": {},
   "outputs": [],
   "source": [
    "# provide conscise way of creating lists\n",
    "# contains brackets containing an expression followed by \n",
    "# a for clause, then zero or more for or if clause.\n"
   ]
  },
  {
   "cell_type": "code",
   "execution_count": 74,
   "id": "2fe02d1d",
   "metadata": {},
   "outputs": [],
   "source": [
    "lst1 = []\n",
    "def lst_square(lst):\n",
    "    for i in lst:\n",
    "        lst1.append(i*i)\n",
    "    return lst1"
   ]
  },
  {
   "cell_type": "code",
   "execution_count": 75,
   "id": "f1763871",
   "metadata": {},
   "outputs": [
    {
     "data": {
      "text/plain": [
       "[1, 4, 9, 16, 25, 36, 49, 64]"
      ]
     },
     "execution_count": 75,
     "metadata": {},
     "output_type": "execute_result"
    }
   ],
   "source": [
    "lst_square([1,2,3,4,5,6,7,8])"
   ]
  },
  {
   "cell_type": "code",
   "execution_count": 76,
   "id": "33decf2d",
   "metadata": {},
   "outputs": [
    {
     "data": {
      "text/plain": [
       "[1, 4, 9, 16, 25, 36, 49, 64]"
      ]
     },
     "execution_count": 76,
     "metadata": {},
     "output_type": "execute_result"
    }
   ],
   "source": [
    "lst = [1,2,3,4,5,6,7,8]\n",
    "[i*i for i in lst ]"
   ]
  },
  {
   "cell_type": "code",
   "execution_count": 77,
   "id": "6fa2f351",
   "metadata": {},
   "outputs": [],
   "source": [
    "lst1 = [i*i for i in lst ]"
   ]
  },
  {
   "cell_type": "code",
   "execution_count": 78,
   "id": "55d58fbe",
   "metadata": {},
   "outputs": [
    {
     "data": {
      "text/plain": [
       "[1, 4, 9, 16, 25, 36, 49, 64]"
      ]
     },
     "execution_count": 78,
     "metadata": {},
     "output_type": "execute_result"
    }
   ],
   "source": [
    "lst1\n"
   ]
  },
  {
   "cell_type": "code",
   "execution_count": 79,
   "id": "2cba44c8",
   "metadata": {},
   "outputs": [
    {
     "data": {
      "text/plain": [
       "[4, 16, 36, 64]"
      ]
     },
     "execution_count": 79,
     "metadata": {},
     "output_type": "execute_result"
    }
   ],
   "source": [
    "[i*i for i in lst if i%2==0]"
   ]
  },
  {
   "cell_type": "code",
   "execution_count": 80,
   "id": "6d7e4b07",
   "metadata": {},
   "outputs": [
    {
     "data": {
      "text/plain": [
       "[1, 9, 25, 49]"
      ]
     },
     "execution_count": 80,
     "metadata": {},
     "output_type": "execute_result"
    }
   ],
   "source": [
    "[i*i for i in lst if i%2!=0]"
   ]
  },
  {
   "cell_type": "markdown",
   "id": "a39a8b06",
   "metadata": {},
   "source": [
    "#### String Formatting In Python"
   ]
  },
  {
   "cell_type": "code",
   "execution_count": 83,
   "id": "034ab892",
   "metadata": {},
   "outputs": [],
   "source": [
    "def greeting(name):\n",
    "    return \"Hello {}. Welcome to the community\".format(name)"
   ]
  },
  {
   "cell_type": "code",
   "execution_count": 84,
   "id": "33fb64ea",
   "metadata": {},
   "outputs": [
    {
     "data": {
      "text/plain": [
       "'Hello Anjali. Welcome to the community'"
      ]
     },
     "execution_count": 84,
     "metadata": {},
     "output_type": "execute_result"
    }
   ],
   "source": [
    "greeting('Anjali')"
   ]
  },
  {
   "cell_type": "code",
   "execution_count": 89,
   "id": "c31ce742",
   "metadata": {},
   "outputs": [],
   "source": [
    "def welcome_email(fname, lname):\n",
    "    return \"Welcome {}.\".format(fname,lname)\n",
    "\n",
    "## ordering plays an important role"
   ]
  },
  {
   "cell_type": "code",
   "execution_count": 90,
   "id": "1e0bb8cb",
   "metadata": {},
   "outputs": [
    {
     "data": {
      "text/plain": [
       "'Welcome Anjali.'"
      ]
     },
     "execution_count": 90,
     "metadata": {},
     "output_type": "execute_result"
    }
   ],
   "source": [
    "welcome_email('Anjali', 'Sharma')"
   ]
  },
  {
   "cell_type": "code",
   "execution_count": 97,
   "id": "5880d34a",
   "metadata": {},
   "outputs": [],
   "source": [
    "# here we ca handle the order by specifying temporary name and age\n",
    "def welcome(name,age):\n",
    "    return \"Welcome {name1}. Your age is {age1}\".format(age1=age, name1=name)"
   ]
  },
  {
   "cell_type": "code",
   "execution_count": 98,
   "id": "a0f4f77e",
   "metadata": {},
   "outputs": [
    {
     "data": {
      "text/plain": [
       "'Welcome Anjali. Your age is 20'"
      ]
     },
     "execution_count": 98,
     "metadata": {},
     "output_type": "execute_result"
    }
   ],
   "source": [
    "welcome('Anjali',20)"
   ]
  },
  {
   "cell_type": "markdown",
   "id": "b0d8376f",
   "metadata": {},
   "source": [
    "### Python List Iterables vs Iterators"
   ]
  },
  {
   "cell_type": "code",
   "execution_count": 99,
   "id": "27f71a64",
   "metadata": {},
   "outputs": [],
   "source": [
    "## list is iterable-> all the values in the list will be \n",
    "# allocated in the memory locations"
   ]
  },
  {
   "cell_type": "code",
   "execution_count": 136,
   "id": "d0efd9df",
   "metadata": {},
   "outputs": [],
   "source": [
    "lst = [1,2,3,34,5,5,6]"
   ]
  },
  {
   "cell_type": "code",
   "execution_count": 137,
   "id": "19c86477",
   "metadata": {},
   "outputs": [
    {
     "name": "stdout",
     "output_type": "stream",
     "text": [
      "1\n",
      "2\n",
      "3\n",
      "34\n",
      "5\n",
      "5\n",
      "6\n"
     ]
    }
   ],
   "source": [
    "for i in lst:\n",
    "    print(i)"
   ]
  },
  {
   "cell_type": "code",
   "execution_count": 138,
   "id": "eea6a19a",
   "metadata": {},
   "outputs": [],
   "source": [
    "# inbuilt function called \"iter\" that converts lists into\n",
    "# an iterator\n",
    "\n",
    "lst1 = iter(lst) # values not initialized in the memory as soon \n",
    "          # as we call the function next.\n",
    "          # when we call next the only first element present\n",
    "          # inside iterator will be initialized in the memory."
   ]
  },
  {
   "cell_type": "code",
   "execution_count": 139,
   "id": "d739aeb0",
   "metadata": {},
   "outputs": [
    {
     "data": {
      "text/plain": [
       "<list_iterator at 0x19a3702fd30>"
      ]
     },
     "execution_count": 139,
     "metadata": {},
     "output_type": "execute_result"
    }
   ],
   "source": [
    "lst1"
   ]
  },
  {
   "cell_type": "code",
   "execution_count": 140,
   "id": "84555aaa",
   "metadata": {},
   "outputs": [
    {
     "data": {
      "text/plain": [
       "1"
      ]
     },
     "execution_count": 140,
     "metadata": {},
     "output_type": "execute_result"
    }
   ],
   "source": [
    "next(lst1) # can retrieve the element only after using the next function"
   ]
  },
  {
   "cell_type": "code",
   "execution_count": 141,
   "id": "f49d1663",
   "metadata": {},
   "outputs": [
    {
     "data": {
      "text/plain": [
       "2"
      ]
     },
     "execution_count": 141,
     "metadata": {},
     "output_type": "execute_result"
    }
   ],
   "source": [
    "next(lst1)"
   ]
  },
  {
   "cell_type": "code",
   "execution_count": 142,
   "id": "8b98c8fe",
   "metadata": {},
   "outputs": [],
   "source": [
    "# it will be initialized will be one by one "
   ]
  },
  {
   "cell_type": "code",
   "execution_count": 143,
   "id": "e0fb8b59",
   "metadata": {},
   "outputs": [],
   "source": [
    "# at a time only one element will be initialized in the memeory"
   ]
  },
  {
   "cell_type": "code",
   "execution_count": 144,
   "id": "1013d564",
   "metadata": {},
   "outputs": [],
   "source": [
    "# after last element we get an error "
   ]
  },
  {
   "cell_type": "code",
   "execution_count": 145,
   "id": "29716bb2",
   "metadata": {},
   "outputs": [],
   "source": [
    "# to start again execute again"
   ]
  },
  {
   "cell_type": "code",
   "execution_count": 146,
   "id": "c937e2f4",
   "metadata": {},
   "outputs": [
    {
     "data": {
      "text/plain": [
       "'useful when we have a huge list ad we dont want to save\\nthe whole list in the memory we can use iterator to save \\none element at a time'"
      ]
     },
     "execution_count": 146,
     "metadata": {},
     "output_type": "execute_result"
    }
   ],
   "source": [
    "'''useful when we have a huge list ad we dont want to save\n",
    "the whole list in the memory we can use iterator to save \n",
    "one element at a time'''"
   ]
  },
  {
   "cell_type": "code",
   "execution_count": 147,
   "id": "66c33603",
   "metadata": {},
   "outputs": [],
   "source": [
    "# iterables can also be retrieved through the for loop"
   ]
  },
  {
   "cell_type": "code",
   "execution_count": 148,
   "id": "1f5308c1",
   "metadata": {},
   "outputs": [
    {
     "name": "stdout",
     "output_type": "stream",
     "text": [
      "3\n",
      "34\n",
      "5\n",
      "5\n",
      "6\n"
     ]
    }
   ],
   "source": [
    "for i in lst1:\n",
    "    print(i) ## started from 3 as we already executed 2\n",
    "              # elements using the next method"
   ]
  },
  {
   "cell_type": "code",
   "execution_count": 149,
   "id": "1f22ece8",
   "metadata": {},
   "outputs": [
    {
     "data": {
      "text/plain": [
       "[1, 2, 3, 34, 5, 5, 6]"
      ]
     },
     "execution_count": 149,
     "metadata": {},
     "output_type": "execute_result"
    }
   ],
   "source": [
    "lst"
   ]
  },
  {
   "cell_type": "code",
   "execution_count": 150,
   "id": "aa58d658",
   "metadata": {},
   "outputs": [],
   "source": [
    "lst =[1, 2, 3, 34, 5, 5, 6] "
   ]
  },
  {
   "cell_type": "code",
   "execution_count": 151,
   "id": "d80a109d",
   "metadata": {},
   "outputs": [],
   "source": [
    "lst1 = iter(lst)"
   ]
  },
  {
   "cell_type": "code",
   "execution_count": 152,
   "id": "67458f71",
   "metadata": {},
   "outputs": [
    {
     "name": "stdout",
     "output_type": "stream",
     "text": [
      "1\n",
      "2\n",
      "3\n",
      "34\n",
      "5\n",
      "5\n",
      "6\n"
     ]
    }
   ],
   "source": [
    "# iterator can be traversed through for loop\n",
    "for i in lst1: '''in for loop stop itertion EH is already done'''\n",
    "    print(i) "
   ]
  },
  {
   "cell_type": "code",
   "execution_count": 153,
   "id": "eb22e1aa",
   "metadata": {},
   "outputs": [],
   "source": [
    "# this time we got all the elements"
   ]
  },
  {
   "cell_type": "code",
   "execution_count": 154,
   "id": "5c019689",
   "metadata": {},
   "outputs": [
    {
     "data": {
      "text/plain": [
       "'until and unless a particaular element in the iterator\\nis not called it will not be initialized memory unlike lists'"
      ]
     },
     "execution_count": 154,
     "metadata": {},
     "output_type": "execute_result"
    }
   ],
   "source": [
    "'''until and unless a particaular element in the iterator\n",
    "is not called it will not be initialized memory unlike lists'''\n"
   ]
  },
  {
   "cell_type": "markdown",
   "id": "c4480f70",
   "metadata": {},
   "source": [
    "### Pyforest - lazy"
   ]
  },
  {
   "cell_type": "code",
   "execution_count": 1,
   "id": "e2d5656c",
   "metadata": {},
   "outputs": [
    {
     "data": {
      "application/javascript": [
       "\n",
       "        if (window._pyforest_update_imports_cell) { window._pyforest_update_imports_cell('import pandas as pd'); }\n",
       "    "
      ],
      "text/plain": [
       "<IPython.core.display.Javascript object>"
      ]
     },
     "metadata": {},
     "output_type": "display_data"
    }
   ],
   "source": [
    "df = pd.read_csv('weather.csv')"
   ]
  },
  {
   "cell_type": "code",
   "execution_count": 2,
   "id": "baa69b39",
   "metadata": {},
   "outputs": [
    {
     "name": "stdout",
     "output_type": "stream",
     "text": [
      "import pandas as pd\n"
     ]
    },
    {
     "data": {
      "text/plain": [
       "['import pandas as pd']"
      ]
     },
     "execution_count": 2,
     "metadata": {},
     "output_type": "execute_result"
    }
   ],
   "source": [
    "active_imports()"
   ]
  },
  {
   "cell_type": "code",
   "execution_count": 3,
   "id": "69313901",
   "metadata": {},
   "outputs": [
    {
     "data": {
      "text/html": [
       "<div>\n",
       "<style scoped>\n",
       "    .dataframe tbody tr th:only-of-type {\n",
       "        vertical-align: middle;\n",
       "    }\n",
       "\n",
       "    .dataframe tbody tr th {\n",
       "        vertical-align: top;\n",
       "    }\n",
       "\n",
       "    .dataframe thead th {\n",
       "        text-align: right;\n",
       "    }\n",
       "</style>\n",
       "<table border=\"1\" class=\"dataframe\">\n",
       "  <thead>\n",
       "    <tr style=\"text-align: right;\">\n",
       "      <th></th>\n",
       "      <th>date</th>\n",
       "      <th>city</th>\n",
       "      <th>temperature</th>\n",
       "      <th>humidity</th>\n",
       "    </tr>\n",
       "  </thead>\n",
       "  <tbody>\n",
       "    <tr>\n",
       "      <th>0</th>\n",
       "      <td>05-01-2017</td>\n",
       "      <td>new york</td>\n",
       "      <td>65</td>\n",
       "      <td>56</td>\n",
       "    </tr>\n",
       "    <tr>\n",
       "      <th>1</th>\n",
       "      <td>05-02-2017</td>\n",
       "      <td>new york</td>\n",
       "      <td>66</td>\n",
       "      <td>58</td>\n",
       "    </tr>\n",
       "    <tr>\n",
       "      <th>2</th>\n",
       "      <td>05-03-3017</td>\n",
       "      <td>new york</td>\n",
       "      <td>68</td>\n",
       "      <td>60</td>\n",
       "    </tr>\n",
       "    <tr>\n",
       "      <th>3</th>\n",
       "      <td>05-01-2017</td>\n",
       "      <td>mumbai</td>\n",
       "      <td>75</td>\n",
       "      <td>80</td>\n",
       "    </tr>\n",
       "    <tr>\n",
       "      <th>4</th>\n",
       "      <td>05-02-2017</td>\n",
       "      <td>mumbai</td>\n",
       "      <td>78</td>\n",
       "      <td>83</td>\n",
       "    </tr>\n",
       "    <tr>\n",
       "      <th>5</th>\n",
       "      <td>05-03-3017</td>\n",
       "      <td>mumbai</td>\n",
       "      <td>82</td>\n",
       "      <td>85</td>\n",
       "    </tr>\n",
       "    <tr>\n",
       "      <th>6</th>\n",
       "      <td>05-01-2017</td>\n",
       "      <td>beijing</td>\n",
       "      <td>80</td>\n",
       "      <td>26</td>\n",
       "    </tr>\n",
       "    <tr>\n",
       "      <th>7</th>\n",
       "      <td>05-02-2017</td>\n",
       "      <td>beijing</td>\n",
       "      <td>77</td>\n",
       "      <td>30</td>\n",
       "    </tr>\n",
       "    <tr>\n",
       "      <th>8</th>\n",
       "      <td>05-03-3017</td>\n",
       "      <td>beijing</td>\n",
       "      <td>79</td>\n",
       "      <td>35</td>\n",
       "    </tr>\n",
       "  </tbody>\n",
       "</table>\n",
       "</div>"
      ],
      "text/plain": [
       "         date      city  temperature  humidity\n",
       "0  05-01-2017  new york           65        56\n",
       "1  05-02-2017  new york           66        58\n",
       "2  05-03-3017  new york           68        60\n",
       "3  05-01-2017    mumbai           75        80\n",
       "4  05-02-2017    mumbai           78        83\n",
       "5  05-03-3017    mumbai           82        85\n",
       "6  05-01-2017   beijing           80        26\n",
       "7  05-02-2017   beijing           77        30\n",
       "8  05-03-3017   beijing           79        35"
      ]
     },
     "execution_count": 3,
     "metadata": {},
     "output_type": "execute_result"
    }
   ],
   "source": [
    "df"
   ]
  },
  {
   "cell_type": "code",
   "execution_count": 4,
   "id": "4bbd3297",
   "metadata": {},
   "outputs": [],
   "source": [
    "# can use various libraries without importing using Pyforest"
   ]
  },
  {
   "cell_type": "markdown",
   "id": "5841e5da",
   "metadata": {},
   "source": [
    "### OOPs In Python"
   ]
  },
  {
   "cell_type": "code",
   "execution_count": 5,
   "id": "a5da9067",
   "metadata": {},
   "outputs": [],
   "source": [
    "## making an empty class meaning no property defined inside it\n",
    "\n",
    "class Car:\n",
    "    pass"
   ]
  },
  {
   "cell_type": "code",
   "execution_count": 8,
   "id": "9c2e655d",
   "metadata": {},
   "outputs": [],
   "source": [
    "# creating a car object\n",
    "car1 = Car()"
   ]
  },
  {
   "cell_type": "code",
   "execution_count": 9,
   "id": "78f157ed",
   "metadata": {},
   "outputs": [
    {
     "data": {
      "text/plain": [
       "<__main__.Car at 0x26804c4e9d0>"
      ]
     },
     "execution_count": 9,
     "metadata": {},
     "output_type": "execute_result"
    }
   ],
   "source": [
    "car1"
   ]
  },
  {
   "cell_type": "code",
   "execution_count": 10,
   "id": "54a6988c",
   "metadata": {},
   "outputs": [],
   "source": [
    "car1.windows = 5\n",
    "car1.doors = 4"
   ]
  },
  {
   "cell_type": "code",
   "execution_count": 11,
   "id": "419b7135",
   "metadata": {},
   "outputs": [
    {
     "name": "stdout",
     "output_type": "stream",
     "text": [
      "5\n"
     ]
    }
   ],
   "source": [
    "print(car1.windows)"
   ]
  },
  {
   "cell_type": "code",
   "execution_count": 13,
   "id": "825f479b",
   "metadata": {},
   "outputs": [],
   "source": [
    "# another onject/instance of Car \n",
    "# can create any number of instances \n",
    "# and each instance is differnt from the previous\n",
    "\n",
    "car2 = Car()"
   ]
  },
  {
   "cell_type": "code",
   "execution_count": 14,
   "id": "7191bb89",
   "metadata": {},
   "outputs": [],
   "source": [
    "car2.windows = 3\n",
    "car2.doors = 2"
   ]
  },
  {
   "cell_type": "code",
   "execution_count": 15,
   "id": "d620470f",
   "metadata": {},
   "outputs": [
    {
     "name": "stdout",
     "output_type": "stream",
     "text": [
      "3\n"
     ]
    }
   ],
   "source": [
    "print(car2.windows)"
   ]
  },
  {
   "cell_type": "code",
   "execution_count": 16,
   "id": "c11f2c2a",
   "metadata": {},
   "outputs": [],
   "source": [
    "car2.enginetype = \"petrol\""
   ]
  },
  {
   "cell_type": "code",
   "execution_count": 17,
   "id": "8682bf55",
   "metadata": {},
   "outputs": [
    {
     "name": "stdout",
     "output_type": "stream",
     "text": [
      "petrol\n"
     ]
    }
   ],
   "source": [
    "print(car2.enginetype)"
   ]
  },
  {
   "cell_type": "code",
   "execution_count": 18,
   "id": "07e69341",
   "metadata": {},
   "outputs": [],
   "source": [
    "# as we have not fixed the number of attributes\n",
    "# any number of attributes can be creayed by the developer\n",
    "# but this is not a good approach\n"
   ]
  },
  {
   "cell_type": "code",
   "execution_count": 20,
   "id": "4b1bb6bd",
   "metadata": {},
   "outputs": [],
   "source": [
    "# to make this approach right \n",
    "# init function scts just like a constructor\n",
    "\n",
    "class Car:\n",
    "    def __init__(self,window,door,enginetype):\n",
    "        self.windows=window\n",
    "        self.doors=door\n",
    "        self.enginetype=enginetype\n",
    "    def self_driving(self):\n",
    "        return \"This is a {} car\".format(self.enginetype)\n",
    "    "
   ]
  },
  {
   "cell_type": "code",
   "execution_count": 21,
   "id": "be55ce2a",
   "metadata": {},
   "outputs": [],
   "source": [
    "car1 = Car(4,5,\"Petrol\")"
   ]
  },
  {
   "cell_type": "code",
   "execution_count": 22,
   "id": "98855b0a",
   "metadata": {},
   "outputs": [],
   "source": [
    "car2 = Car(3,4,\"Diesel\")"
   ]
  },
  {
   "cell_type": "code",
   "execution_count": 23,
   "id": "a2302e10",
   "metadata": {},
   "outputs": [
    {
     "data": {
      "text/plain": [
       "'This is a Petrol car'"
      ]
     },
     "execution_count": 23,
     "metadata": {},
     "output_type": "execute_result"
    }
   ],
   "source": [
    "car1.self_driving()"
   ]
  },
  {
   "cell_type": "code",
   "execution_count": 24,
   "id": "2dd34959",
   "metadata": {},
   "outputs": [
    {
     "data": {
      "text/plain": [
       "4"
      ]
     },
     "execution_count": 24,
     "metadata": {},
     "output_type": "execute_result"
    }
   ],
   "source": [
    "car1.windows"
   ]
  },
  {
   "cell_type": "code",
   "execution_count": 26,
   "id": "ead2fee0",
   "metadata": {},
   "outputs": [
    {
     "data": {
      "text/plain": [
       "'Diesel'"
      ]
     },
     "execution_count": 26,
     "metadata": {},
     "output_type": "execute_result"
    }
   ],
   "source": [
    "car2.enginetype"
   ]
  },
  {
   "cell_type": "markdown",
   "id": "ee55d75d",
   "metadata": {},
   "source": [
    "### Pyhton Exception Handling"
   ]
  },
  {
   "cell_type": "code",
   "execution_count": 27,
   "id": "dc78a753",
   "metadata": {},
   "outputs": [],
   "source": [
    "# difference between error and exception"
   ]
  },
  {
   "cell_type": "code",
   "execution_count": 28,
   "id": "90e51820",
   "metadata": {},
   "outputs": [
    {
     "name": "stdout",
     "output_type": "stream",
     "text": [
      "Some problem occured\n"
     ]
    }
   ],
   "source": [
    "try:\n",
    "    ## code block where exception can occur\n",
    "    a=b\n",
    "except:\n",
    "    print('Some problem occured')"
   ]
  },
  {
   "cell_type": "code",
   "execution_count": 32,
   "id": "9d567c62",
   "metadata": {},
   "outputs": [
    {
     "name": "stdout",
     "output_type": "stream",
     "text": [
      "name 'b' is not defined\n"
     ]
    }
   ],
   "source": [
    "try:\n",
    "    ## code block where exception can occur\n",
    "    a=b\n",
    "except Exception as ex:\n",
    "    # calling the exception class\n",
    "    print(ex)\n",
    "    \n",
    "#here we will get the same error as we get in executing a=b\n",
    "# excxeption got displayed as we are using exception class"
   ]
  },
  {
   "cell_type": "code",
   "execution_count": 31,
   "id": "0359b4e1",
   "metadata": {},
   "outputs": [
    {
     "ename": "NameError",
     "evalue": "name 'b' is not defined",
     "output_type": "error",
     "traceback": [
      "\u001b[1;31m---------------------------------------------------------------------------\u001b[0m",
      "\u001b[1;31mNameError\u001b[0m                                 Traceback (most recent call last)",
      "Cell \u001b[1;32mIn[31], line 1\u001b[0m\n\u001b[1;32m----> 1\u001b[0m a\u001b[38;5;241m=\u001b[39mb\n",
      "\u001b[1;31mNameError\u001b[0m: name 'b' is not defined"
     ]
    }
   ],
   "source": [
    "a=b"
   ]
  },
  {
   "cell_type": "code",
   "execution_count": 34,
   "id": "73736a16",
   "metadata": {},
   "outputs": [
    {
     "name": "stdout",
     "output_type": "stream",
     "text": [
      "User have not defined the variable\n"
     ]
    }
   ],
   "source": [
    "try:\n",
    "    \n",
    "    a=b\n",
    "    \n",
    "except NameError as ex1:\n",
    "    print('User have not defined the variable')\n",
    "    \n",
    "\n",
    "# we have to write this Exception class at the end \n",
    "# if we are already defining the name of the exception\n",
    "\n",
    "except Exception as ex:\n",
    "    print(ex)"
   ]
  },
  {
   "cell_type": "code",
   "execution_count": 36,
   "id": "f8cdcbdd",
   "metadata": {},
   "outputs": [
    {
     "name": "stdout",
     "output_type": "stream",
     "text": [
      "unsupported operand type(s) for +: 'int' and 'str'\n"
     ]
    }
   ],
   "source": [
    "try:\n",
    "    \n",
    "    a=1\n",
    "    b=\"s\"\n",
    "    c=a+b\n",
    "    \n",
    "except NameError as ex1:\n",
    "    print('User have not defined the variable')\n",
    "\n",
    "#here bydeafult this Excepotion class will be called\n",
    "except Exception as ex:\n",
    "    print(ex)"
   ]
  },
  {
   "cell_type": "code",
   "execution_count": 38,
   "id": "6bed45ca",
   "metadata": {},
   "outputs": [
    {
     "ename": "TypeError",
     "evalue": "unsupported operand type(s) for +: 'int' and 'str'",
     "output_type": "error",
     "traceback": [
      "\u001b[1;31m---------------------------------------------------------------------------\u001b[0m",
      "\u001b[1;31mTypeError\u001b[0m                                 Traceback (most recent call last)",
      "Cell \u001b[1;32mIn[38], line 3\u001b[0m\n\u001b[0;32m      1\u001b[0m a\u001b[38;5;241m=\u001b[39m\u001b[38;5;241m1\u001b[39m\n\u001b[0;32m      2\u001b[0m b\u001b[38;5;241m=\u001b[39m\u001b[38;5;124m\"\u001b[39m\u001b[38;5;124ms\u001b[39m\u001b[38;5;124m\"\u001b[39m\n\u001b[1;32m----> 3\u001b[0m c\u001b[38;5;241m=\u001b[39ma\u001b[38;5;241m+\u001b[39mb\n",
      "\u001b[1;31mTypeError\u001b[0m: unsupported operand type(s) for +: 'int' and 'str'"
     ]
    }
   ],
   "source": [
    "a=1\n",
    "b=\"s\"\n",
    "c=a+b\n",
    "# we can see its a type error"
   ]
  },
  {
   "cell_type": "code",
   "execution_count": 39,
   "id": "4045ca55",
   "metadata": {},
   "outputs": [
    {
     "name": "stdout",
     "output_type": "stream",
     "text": [
      "Try to make the datatype similar\n"
     ]
    }
   ],
   "source": [
    "try:\n",
    "    \n",
    "    a=1\n",
    "    b=\"s\"\n",
    "    c=a+b\n",
    "    \n",
    "except NameError:\n",
    "    print('User have not defined the variable')\n",
    "except TypeError:\n",
    "    print('Try to make the datatype similar')\n",
    "except Exception as ex:\n",
    "    print(ex)"
   ]
  },
  {
   "cell_type": "code",
   "execution_count": 42,
   "id": "0ef35e04",
   "metadata": {},
   "outputs": [
    {
     "name": "stdout",
     "output_type": "stream",
     "text": [
      "Enter number 1 : 12\n",
      "Enter number 2 : 0\n",
      "division by zero\n"
     ]
    }
   ],
   "source": [
    "try:\n",
    "    a=int(input(\"Enter number 1 : \"))\n",
    "    b=int(input(\"Enter number 2 : \"))\n",
    "    c=a*b\n",
    "    d=a/b\n",
    "    e=a+b\n",
    "    print(c)\n",
    "    print(d)\n",
    "    print(e)\n",
    "    \n",
    "    \n",
    "except NameError:\n",
    "    print('User have not defined the variable')\n",
    "except TypeError:\n",
    "    print('Try to make the datatype similar')\n",
    "except Exception as ex:\n",
    "    print(ex)"
   ]
  },
  {
   "cell_type": "code",
   "execution_count": 43,
   "id": "a3a9191f",
   "metadata": {},
   "outputs": [
    {
     "ename": "ZeroDivisionError",
     "evalue": "division by zero",
     "output_type": "error",
     "traceback": [
      "\u001b[1;31m---------------------------------------------------------------------------\u001b[0m",
      "\u001b[1;31mZeroDivisionError\u001b[0m                         Traceback (most recent call last)",
      "Cell \u001b[1;32mIn[43], line 1\u001b[0m\n\u001b[1;32m----> 1\u001b[0m \u001b[38;5;241m12\u001b[39m\u001b[38;5;241m/\u001b[39m\u001b[38;5;241m0\u001b[39m\n",
      "\u001b[1;31mZeroDivisionError\u001b[0m: division by zero"
     ]
    }
   ],
   "source": [
    "12/0"
   ]
  },
  {
   "cell_type": "code",
   "execution_count": 45,
   "id": "f7e2179c",
   "metadata": {},
   "outputs": [
    {
     "name": "stdout",
     "output_type": "stream",
     "text": [
      "Enter number 1 : 12\n",
      "Enter number 2 : 0\n",
      "The number cannot be divided by zero. Enter number greater than zero\n"
     ]
    }
   ],
   "source": [
    "try:\n",
    "    a=int(input(\"Enter number 1 : \"))\n",
    "    b=int(input(\"Enter number 2 : \"))\n",
    "    c=a*b\n",
    "    d=a/b\n",
    "    e=a+b\n",
    "    print(c)\n",
    "    print(d)\n",
    "    print(e)\n",
    "    \n",
    "except ZeroDivisionError:\n",
    "    print('The number cannot be divided by zero. Enter number greater than zero')\n",
    "except NameError:\n",
    "    print('User have not defined the variable')\n",
    "except TypeError:\n",
    "    print('Try to make the datatype similar')\n",
    "except Exception as ex:\n",
    "    print(ex)"
   ]
  },
  {
   "cell_type": "code",
   "execution_count": 47,
   "id": "dbc2b3bc",
   "metadata": {},
   "outputs": [],
   "source": [
    "# there is also an else block in python try except block\n",
    "# specifying that the code has successfully exceuted \n",
    "# we can write further print statements in the else block"
   ]
  },
  {
   "cell_type": "code",
   "execution_count": 49,
   "id": "139eb6fe",
   "metadata": {},
   "outputs": [
    {
     "name": "stdout",
     "output_type": "stream",
     "text": [
      "Enter number 1 : 12\n",
      "Enter number 2 : 4\n",
      "Code successfully executed\n",
      "48\n",
      "3.0\n",
      "16\n"
     ]
    }
   ],
   "source": [
    "try:\n",
    "    a=int(input(\"Enter number 1 : \"))\n",
    "    b=int(input(\"Enter number 2 : \"))\n",
    "    c=a*b\n",
    "    d=a/b\n",
    "    e=a+b\n",
    "   \n",
    "    \n",
    "except ZeroDivisionError:\n",
    "    print('The number cannot be divided by zero. Enter number greater than zero')    \n",
    "except NameError:\n",
    "    print('User have not defined the variable')\n",
    "except TypeError:\n",
    "    print('Try to make the datatype similar')\n",
    "except Exception as ex:\n",
    "    print(ex)\n",
    "    \n",
    "else:\n",
    "    print('Code successfully executed')\n",
    "    print(c)\n",
    "    print(d)\n",
    "    print(e)\n",
    "    "
   ]
  },
  {
   "cell_type": "code",
   "execution_count": 54,
   "id": "1d31f614",
   "metadata": {},
   "outputs": [],
   "source": [
    "# there is also something\n",
    "# try else finally block\n",
    "\n",
    "# if exception is caught in try block then the else block \n",
    "# will not get executed\n",
    "\n",
    "# the finally block will be executed evem after the exception\n",
    "# is acught in try block"
   ]
  },
  {
   "cell_type": "code",
   "execution_count": 55,
   "id": "ae811883",
   "metadata": {},
   "outputs": [
    {
     "name": "stdout",
     "output_type": "stream",
     "text": [
      "Enter number 1 : 20\n",
      "Enter number 2 : 0\n",
      "The number cannot be divided by zero. Enter number greater than zero\n",
      "The exceution is done\n"
     ]
    }
   ],
   "source": [
    "try:\n",
    "    a=int(input(\"Enter number 1 : \"))\n",
    "    b=int(input(\"Enter number 2 : \"))\n",
    "    c=a*b\n",
    "    d=a/b\n",
    "    e=a+b\n",
    "   \n",
    "    \n",
    "except ZeroDivisionError:\n",
    "    print('The number cannot be divided by zero. Enter number greater than zero')    \n",
    "except NameError:\n",
    "    print('User have not defined the variable')\n",
    "except TypeError:\n",
    "    print('Try to make the datatype similar')\n",
    "except Exception as ex:\n",
    "    print(ex)\n",
    "    \n",
    "else:\n",
    "    print('Code successfully executed')\n",
    "    print(c)\n",
    "    print(d)\n",
    "    print(e)\n",
    "    \n",
    "finally:\n",
    "    print('The exceution is done')\n",
    "    "
   ]
  },
  {
   "cell_type": "code",
   "execution_count": 56,
   "id": "6133ef0c",
   "metadata": {},
   "outputs": [],
   "source": [
    "# no exception-> else and finally both get printed\n",
    "# exception caught-> finally will still be printed"
   ]
  },
  {
   "cell_type": "markdown",
   "id": "4a8719e4",
   "metadata": {},
   "source": [
    "#### Custom Exception"
   ]
  },
  {
   "cell_type": "code",
   "execution_count": 1,
   "id": "71f02f0a",
   "metadata": {},
   "outputs": [],
   "source": [
    "class Error(Exception): # inheriting Exception class\n",
    "    pass\n",
    "\n",
    "class dobException(Error):\n",
    "    pass\n",
    "\n"
   ]
  },
  {
   "cell_type": "code",
   "execution_count": 5,
   "id": "36aca74b",
   "metadata": {},
   "outputs": [
    {
     "name": "stdout",
     "output_type": "stream",
     "text": [
      "please Enter year of birth : 1995\n",
      "Age is valid. Apply for the exams \n"
     ]
    }
   ],
   "source": [
    "year=int(input(\"please Enter year of birth : \"))\n",
    "age=2021-year\n",
    "\n",
    "try:\n",
    "    if age <= 30 & age >20:\n",
    "        print('Age is valid. Apply for the exams ')\n",
    "    else:\n",
    "        raise dobException\n",
    "except dobException:\n",
    "    print('Year range not valid. Cannot apply ')\n",
    "    "
   ]
  },
  {
   "cell_type": "markdown",
   "id": "8873ccf2",
   "metadata": {},
   "source": [
    "### Pyhton Inheritance"
   ]
  },
  {
   "cell_type": "code",
   "execution_count": 14,
   "id": "3f18883b",
   "metadata": {},
   "outputs": [],
   "source": [
    "# all class varibles are public\n",
    "# Car Blueprint\n",
    "# init is the initilaization constructor\n",
    "\n",
    "\n",
    "class Car:\n",
    "    def __init__(self,windows,doors,enginetype):\n",
    "        self.windows=windows\n",
    "        self.doors=doors\n",
    "        self.enginetype=enginetype\n",
    "    def drive(self):\n",
    "        print('The person drives the car')\n",
    "        \n",
    "# this method drive is belonging to this class Car \n",
    "# whenever we define an onject of that particular class\n",
    "# and when we call the drive(self)\n",
    "# bydefault it will call the object of the class defined"
   ]
  },
  {
   "cell_type": "code",
   "execution_count": 15,
   "id": "76abc426",
   "metadata": {},
   "outputs": [],
   "source": [
    "car = Car(4,5,'diesel')"
   ]
  },
  {
   "cell_type": "code",
   "execution_count": 16,
   "id": "80ac7062",
   "metadata": {},
   "outputs": [
    {
     "data": {
      "text/plain": [
       "4"
      ]
     },
     "execution_count": 16,
     "metadata": {},
     "output_type": "execute_result"
    }
   ],
   "source": [
    "car.windows"
   ]
  },
  {
   "cell_type": "code",
   "execution_count": 17,
   "id": "396ef1a1",
   "metadata": {},
   "outputs": [
    {
     "data": {
      "text/plain": [
       "['__class__',\n",
       " '__delattr__',\n",
       " '__dict__',\n",
       " '__dir__',\n",
       " '__doc__',\n",
       " '__eq__',\n",
       " '__format__',\n",
       " '__ge__',\n",
       " '__getattribute__',\n",
       " '__getstate__',\n",
       " '__gt__',\n",
       " '__hash__',\n",
       " '__init__',\n",
       " '__init_subclass__',\n",
       " '__le__',\n",
       " '__lt__',\n",
       " '__module__',\n",
       " '__ne__',\n",
       " '__new__',\n",
       " '__reduce__',\n",
       " '__reduce_ex__',\n",
       " '__repr__',\n",
       " '__setattr__',\n",
       " '__sizeof__',\n",
       " '__str__',\n",
       " '__subclasshook__',\n",
       " '__weakref__',\n",
       " 'doors',\n",
       " 'drive',\n",
       " 'enginetype',\n",
       " 'windows']"
      ]
     },
     "execution_count": 17,
     "metadata": {},
     "output_type": "execute_result"
    }
   ],
   "source": [
    "dir(car)"
   ]
  },
  {
   "cell_type": "code",
   "execution_count": 18,
   "id": "a516a4b9",
   "metadata": {},
   "outputs": [
    {
     "data": {
      "text/plain": [
       "'diesel'"
      ]
     },
     "execution_count": 18,
     "metadata": {},
     "output_type": "execute_result"
    }
   ],
   "source": [
    "car.enginetype"
   ]
  },
  {
   "cell_type": "code",
   "execution_count": 19,
   "id": "edafe41b",
   "metadata": {},
   "outputs": [
    {
     "name": "stdout",
     "output_type": "stream",
     "text": [
      "The person drives the car\n"
     ]
    }
   ],
   "source": [
    "car.drive()"
   ]
  },
  {
   "cell_type": "code",
   "execution_count": 20,
   "id": "a88211d0",
   "metadata": {},
   "outputs": [],
   "source": [
    "class audi(Car): #inheriting Car class\n",
    "    def __init__(self,windows,doors,enginetype,enableai):\n",
    "        super().__init__(windows,doors,enginetype) # this means we will call the parent init constructor\n",
    "        self.enableai=enableai\n",
    "        \n",
    "    def selfdriving(self):\n",
    "        print('audi supports self driving')"
   ]
  },
  {
   "cell_type": "code",
   "execution_count": 21,
   "id": "b9d1b1fd",
   "metadata": {},
   "outputs": [],
   "source": [
    "audiQ7 = audi(5,5,'diesel',True)"
   ]
  },
  {
   "cell_type": "code",
   "execution_count": 22,
   "id": "ed48b898",
   "metadata": {},
   "outputs": [
    {
     "data": {
      "text/plain": [
       "['__class__',\n",
       " '__delattr__',\n",
       " '__dict__',\n",
       " '__dir__',\n",
       " '__doc__',\n",
       " '__eq__',\n",
       " '__format__',\n",
       " '__ge__',\n",
       " '__getattribute__',\n",
       " '__getstate__',\n",
       " '__gt__',\n",
       " '__hash__',\n",
       " '__init__',\n",
       " '__init_subclass__',\n",
       " '__le__',\n",
       " '__lt__',\n",
       " '__module__',\n",
       " '__ne__',\n",
       " '__new__',\n",
       " '__reduce__',\n",
       " '__reduce_ex__',\n",
       " '__repr__',\n",
       " '__setattr__',\n",
       " '__sizeof__',\n",
       " '__str__',\n",
       " '__subclasshook__',\n",
       " '__weakref__',\n",
       " 'doors',\n",
       " 'drive',\n",
       " 'enableai',\n",
       " 'enginetype',\n",
       " 'selfdriving',\n",
       " 'windows']"
      ]
     },
     "execution_count": 22,
     "metadata": {},
     "output_type": "execute_result"
    }
   ],
   "source": [
    "dir(audiQ7)"
   ]
  },
  {
   "cell_type": "code",
   "execution_count": 23,
   "id": "2ce0dbbc",
   "metadata": {},
   "outputs": [
    {
     "data": {
      "text/plain": [
       "5"
      ]
     },
     "execution_count": 23,
     "metadata": {},
     "output_type": "execute_result"
    }
   ],
   "source": [
    "audiQ7.windows"
   ]
  },
  {
   "cell_type": "code",
   "execution_count": 24,
   "id": "2f5010ad",
   "metadata": {},
   "outputs": [
    {
     "data": {
      "text/plain": [
       "True"
      ]
     },
     "execution_count": 24,
     "metadata": {},
     "output_type": "execute_result"
    }
   ],
   "source": [
    "audiQ7.enableai"
   ]
  },
  {
   "cell_type": "code",
   "execution_count": 25,
   "id": "8f46fe09",
   "metadata": {},
   "outputs": [
    {
     "name": "stdout",
     "output_type": "stream",
     "text": [
      "The person drives the car\n"
     ]
    }
   ],
   "source": [
    "audiQ7.drive()"
   ]
  },
  {
   "cell_type": "code",
   "execution_count": 26,
   "id": "0b75de29",
   "metadata": {},
   "outputs": [
    {
     "name": "stdout",
     "output_type": "stream",
     "text": [
      "audi supports self driving\n"
     ]
    }
   ],
   "source": [
    "audiQ7.selfdriving()"
   ]
  },
  {
   "cell_type": "markdown",
   "id": "1ccf407c",
   "metadata": {},
   "source": [
    "### Pyhton OOPs - Magic Methods in classes"
   ]
  },
  {
   "cell_type": "code",
   "execution_count": 36,
   "id": "6c9d3f26",
   "metadata": {},
   "outputs": [],
   "source": [
    "class Car:\n",
    "    def __init__(self,windows,doors,enginetype): #initializtion constructor\n",
    "        self.windows=windows\n",
    "        self.doors=doors\n",
    "        self.enginetype=enginetype\n",
    "    def drive(self): # public class method\n",
    "        print('The person drives the car')"
   ]
  },
  {
   "cell_type": "code",
   "execution_count": 37,
   "id": "dfe27e4d",
   "metadata": {},
   "outputs": [],
   "source": [
    "c = Car(4,5,'diesel')"
   ]
  },
  {
   "cell_type": "code",
   "execution_count": 38,
   "id": "45e95027",
   "metadata": {},
   "outputs": [
    {
     "data": {
      "text/plain": [
       "<__main__.Car at 0x28390c88610>"
      ]
     },
     "execution_count": 38,
     "metadata": {},
     "output_type": "execute_result"
    }
   ],
   "source": [
    "c"
   ]
  },
  {
   "cell_type": "code",
   "execution_count": 39,
   "id": "1bd0358b",
   "metadata": {},
   "outputs": [
    {
     "data": {
      "text/plain": [
       "['__class__',\n",
       " '__delattr__',\n",
       " '__dict__',\n",
       " '__dir__',\n",
       " '__doc__',\n",
       " '__eq__',\n",
       " '__format__',\n",
       " '__ge__',\n",
       " '__getattribute__',\n",
       " '__getstate__',\n",
       " '__gt__',\n",
       " '__hash__',\n",
       " '__init__',\n",
       " '__init_subclass__',\n",
       " '__le__',\n",
       " '__lt__',\n",
       " '__module__',\n",
       " '__ne__',\n",
       " '__new__',\n",
       " '__reduce__',\n",
       " '__reduce_ex__',\n",
       " '__repr__',\n",
       " '__setattr__',\n",
       " '__sizeof__',\n",
       " '__str__',\n",
       " '__subclasshook__',\n",
       " '__weakref__',\n",
       " 'doors',\n",
       " 'drive',\n",
       " 'enginetype',\n",
       " 'windows']"
      ]
     },
     "execution_count": 39,
     "metadata": {},
     "output_type": "execute_result"
    }
   ],
   "source": [
    "dir(c)\n",
    "# all the methods shown here are called magic methods\n",
    "# just like __init__()"
   ]
  },
  {
   "cell_type": "code",
   "execution_count": 40,
   "id": "b2302ee3",
   "metadata": {},
   "outputs": [
    {
     "name": "stdout",
     "output_type": "stream",
     "text": [
      "<__main__.Car object at 0x0000028390C88610>\n"
     ]
    }
   ],
   "source": [
    "print(c)"
   ]
  },
  {
   "cell_type": "code",
   "execution_count": 41,
   "id": "2242ddfc",
   "metadata": {},
   "outputs": [],
   "source": [
    "class Car:\n",
    "    def __init__(self,windows,doors,enginetype): #initializtion constructor\n",
    "        self.windows=windows\n",
    "        self.doors=doors\n",
    "        self.enginetype=enginetype\n",
    "        \n",
    "    def __str__(self): # overriding this init() method\n",
    "        return 'The object has been initialized'\n",
    "    def drive(self): # public class method\n",
    "        print('The person drives the car')"
   ]
  },
  {
   "cell_type": "code",
   "execution_count": 42,
   "id": "e92a2e98",
   "metadata": {},
   "outputs": [],
   "source": [
    "c=Car(4,5,'diesel')"
   ]
  },
  {
   "cell_type": "code",
   "execution_count": 43,
   "id": "65971fec",
   "metadata": {},
   "outputs": [
    {
     "name": "stdout",
     "output_type": "stream",
     "text": [
      "The object has been initialized\n"
     ]
    }
   ],
   "source": [
    "print(c)"
   ]
  },
  {
   "cell_type": "code",
   "execution_count": 44,
   "id": "010b3bb3",
   "metadata": {},
   "outputs": [],
   "source": [
    "# earlier it was printing \n",
    "# <__main__.Car object at 0x0000028390C88610>\n",
    "# now\n",
    "# The object has been initialized"
   ]
  },
  {
   "cell_type": "code",
   "execution_count": 45,
   "id": "14aba893",
   "metadata": {},
   "outputs": [],
   "source": [
    "# previousfunctionality will be overridden by this"
   ]
  },
  {
   "cell_type": "code",
   "execution_count": 46,
   "id": "c9d468f2",
   "metadata": {},
   "outputs": [],
   "source": [
    "# using method sizeof()"
   ]
  },
  {
   "cell_type": "code",
   "execution_count": 48,
   "id": "4e97f36f",
   "metadata": {},
   "outputs": [
    {
     "data": {
      "text/plain": [
       "24"
      ]
     },
     "execution_count": 48,
     "metadata": {},
     "output_type": "execute_result"
    }
   ],
   "source": [
    "c.__sizeof__() # this entire object consists of 24 bytes"
   ]
  },
  {
   "cell_type": "code",
   "execution_count": 49,
   "id": "a9b35aa8",
   "metadata": {},
   "outputs": [],
   "source": [
    "## to override this we will use it as \n",
    "\n",
    "class Car:\n",
    "    def __init__(self,windows,doors,enginetype): #initializtion constructor\n",
    "        self.windows=windows\n",
    "        self.doors=doors\n",
    "        self.enginetype=enginetype\n",
    "        \n",
    "    def __str__(self): # overriding this init() method\n",
    "        return 'The object has been initialized'\n",
    "    def __sizeof__(self):\n",
    "        return 'This displays the size of the object'\n",
    "    def drive(self): # public class method\n",
    "        print('The person drives the car')"
   ]
  },
  {
   "cell_type": "code",
   "execution_count": 51,
   "id": "f9a1f698",
   "metadata": {},
   "outputs": [],
   "source": [
    "c=Car(4,5,'diesel')"
   ]
  },
  {
   "cell_type": "code",
   "execution_count": 53,
   "id": "276fefab",
   "metadata": {},
   "outputs": [
    {
     "data": {
      "text/plain": [
       "'This displays the size of the object'"
      ]
     },
     "execution_count": 53,
     "metadata": {},
     "output_type": "execute_result"
    }
   ],
   "source": [
    "c.__sizeof__()"
   ]
  },
  {
   "cell_type": "code",
   "execution_count": 54,
   "id": "58eb150e",
   "metadata": {},
   "outputs": [],
   "source": [
    "# using __new__()"
   ]
  },
  {
   "cell_type": "code",
   "execution_count": 55,
   "id": "a666fc7f",
   "metadata": {},
   "outputs": [],
   "source": [
    "# this is called before init()\n",
    "\n",
    "\n",
    "class Car:\n",
    "    \n",
    "    def __new__(self,windows,doors,enginetype):\n",
    "        print('Object started getting initialized')\n",
    "    def __init__(self,windows,doors,enginetype): #initializtion constructor\n",
    "        self.windows=windows\n",
    "        self.doors=doors\n",
    "        self.enginetype=enginetype\n",
    "        \n",
    "    def __str__(self): # overriding this init() method\n",
    "        return 'The object has been initialized'\n",
    "    def __sizeof__(self):\n",
    "        return 'This displays the size of the object'\n",
    "    def drive(self): # public class method\n",
    "        print('The person drives the car')"
   ]
  },
  {
   "cell_type": "code",
   "execution_count": 56,
   "id": "042c7508",
   "metadata": {},
   "outputs": [
    {
     "name": "stdout",
     "output_type": "stream",
     "text": [
      "Object started getting initialized\n"
     ]
    }
   ],
   "source": [
    "c = Car(4,5,'diesel')"
   ]
  },
  {
   "cell_type": "code",
   "execution_count": 57,
   "id": "25a947f4",
   "metadata": {},
   "outputs": [],
   "source": [
    "# first new() will be called then the init()"
   ]
  },
  {
   "cell_type": "markdown",
   "id": "bae4842e",
   "metadata": {},
   "source": [
    "#### Pyhton Assert Statement"
   ]
  },
  {
   "cell_type": "code",
   "execution_count": 58,
   "id": "2f068f25",
   "metadata": {},
   "outputs": [
    {
     "data": {
      "text/plain": [
       "'Python provides the assert statement to check if a given logical expression is true of false.\\nProgram execution proceeds only if the expression is true and\\nraises the AssertionError when it is false. The following code shows the usage of \\nthe  assert statement'"
      ]
     },
     "execution_count": 58,
     "metadata": {},
     "output_type": "execute_result"
    }
   ],
   "source": [
    "'''Python provides the assert statement to check if a given logical expression is true of false.\n",
    "Program execution proceeds only if the expression is true and\n",
    "raises the AssertionError when it is false. The following code shows the usage of \n",
    "the  assert statement'''"
   ]
  },
  {
   "cell_type": "code",
   "execution_count": 61,
   "id": "411d5f71",
   "metadata": {},
   "outputs": [
    {
     "data": {
      "text/plain": [
       "True"
      ]
     },
     "execution_count": 61,
     "metadata": {},
     "output_type": "execute_result"
    }
   ],
   "source": [
    "10>=10 # alogical statement"
   ]
  },
  {
   "cell_type": "code",
   "execution_count": 62,
   "id": "63a6aebc",
   "metadata": {},
   "outputs": [],
   "source": [
    "num=10\n",
    "assert num>=10"
   ]
  },
  {
   "cell_type": "code",
   "execution_count": 63,
   "id": "e0719ef7",
   "metadata": {},
   "outputs": [
    {
     "ename": "AssertionError",
     "evalue": "",
     "output_type": "error",
     "traceback": [
      "\u001b[1;31m---------------------------------------------------------------------------\u001b[0m",
      "\u001b[1;31mAssertionError\u001b[0m                            Traceback (most recent call last)",
      "Cell \u001b[1;32mIn[63], line 2\u001b[0m\n\u001b[0;32m      1\u001b[0m num\u001b[38;5;241m=\u001b[39m\u001b[38;5;241m10\u001b[39m\n\u001b[1;32m----> 2\u001b[0m \u001b[38;5;28;01massert\u001b[39;00m num\u001b[38;5;241m>\u001b[39m\u001b[38;5;241m10\u001b[39m\n",
      "\u001b[1;31mAssertionError\u001b[0m: "
     ]
    }
   ],
   "source": [
    "num=10\n",
    "assert num>10"
   ]
  },
  {
   "cell_type": "code",
   "execution_count": 66,
   "id": "716aadfd",
   "metadata": {},
   "outputs": [
    {
     "name": "stdout",
     "output_type": "stream",
     "text": [
      "Enter the number : 12\n",
      "The number is even\n"
     ]
    }
   ],
   "source": [
    "try :\n",
    "    num=int(input('Enter the number : '))\n",
    "    assert num%2==0\n",
    "    print('The number is even')\n",
    "except AssertionError:\n",
    "    print('Please enter even number ')"
   ]
  },
  {
   "cell_type": "markdown",
   "id": "04821c34",
   "metadata": {},
   "source": [
    "#### Python Generators vs Iterators"
   ]
  },
  {
   "cell_type": "code",
   "execution_count": 1,
   "id": "4421386e",
   "metadata": {},
   "outputs": [
    {
     "name": "stdout",
     "output_type": "stream",
     "text": [
      "1\n",
      "2\n",
      "3\n",
      "4\n"
     ]
    }
   ],
   "source": [
    "lst = [1,2,3,4]\n",
    "for i in lst:\n",
    "    print(i)"
   ]
  },
  {
   "cell_type": "code",
   "execution_count": 7,
   "id": "02566620",
   "metadata": {},
   "outputs": [],
   "source": [
    "# iterator\n",
    "iterable = iter(lst)"
   ]
  },
  {
   "cell_type": "code",
   "execution_count": 8,
   "id": "58d782d3",
   "metadata": {},
   "outputs": [
    {
     "name": "stdout",
     "output_type": "stream",
     "text": [
      "1\n",
      "2\n",
      "3\n",
      "4\n"
     ]
    }
   ],
   "source": [
    "# we can iterate thorugh an iterate\n",
    "for i in iterable:\n",
    "    print(i)"
   ]
  },
  {
   "cell_type": "code",
   "execution_count": 9,
   "id": "6fa73aa5",
   "metadata": {},
   "outputs": [],
   "source": [
    "iterable = iter(lst)"
   ]
  },
  {
   "cell_type": "code",
   "execution_count": 15,
   "id": "40018f38",
   "metadata": {},
   "outputs": [
    {
     "ename": "StopIteration",
     "evalue": "",
     "output_type": "error",
     "traceback": [
      "\u001b[1;31m---------------------------------------------------------------------------\u001b[0m",
      "\u001b[1;31mStopIteration\u001b[0m                             Traceback (most recent call last)",
      "Cell \u001b[1;32mIn[15], line 1\u001b[0m\n\u001b[1;32m----> 1\u001b[0m \u001b[38;5;28mnext\u001b[39m(iterable)\n",
      "\u001b[1;31mStopIteration\u001b[0m: "
     ]
    }
   ],
   "source": [
    "next(iterable)"
   ]
  },
  {
   "cell_type": "code",
   "execution_count": 17,
   "id": "563a71ce",
   "metadata": {},
   "outputs": [
    {
     "name": "stdout",
     "output_type": "stream",
     "text": [
      "Iterator is empty\n"
     ]
    }
   ],
   "source": [
    "try:\n",
    "    print(next(iterable))\n",
    "except StopIteration:\n",
    "    print('Iterator is empty')"
   ]
  },
  {
   "cell_type": "code",
   "execution_count": null,
   "id": "4b6c7b95",
   "metadata": {},
   "outputs": [],
   "source": [
    "# creating a generator"
   ]
  },
  {
   "cell_type": "code",
   "execution_count": 18,
   "id": "f7a739b8",
   "metadata": {},
   "outputs": [],
   "source": [
    "def square(n):\n",
    "    for i in range(n):\n",
    "        return i**2"
   ]
  },
  {
   "cell_type": "code",
   "execution_count": 20,
   "id": "efbc61a5",
   "metadata": {},
   "outputs": [
    {
     "data": {
      "text/plain": [
       "0"
      ]
     },
     "execution_count": 20,
     "metadata": {},
     "output_type": "execute_result"
    }
   ],
   "source": [
    "square(3)"
   ]
  },
  {
   "cell_type": "code",
   "execution_count": 21,
   "id": "d53e3899",
   "metadata": {},
   "outputs": [],
   "source": [
    "# converting return to yield will make entire function\n",
    "# iterator but it is a kind of generator\n",
    "# generator used in order to create iterator\n",
    "\n",
    "def square(n):\n",
    "    for i in range(n):\n",
    "        yield i**2"
   ]
  },
  {
   "cell_type": "code",
   "execution_count": 23,
   "id": "3d6e962d",
   "metadata": {},
   "outputs": [
    {
     "data": {
      "text/plain": [
       "<generator object square at 0x0000022049B51080>"
      ]
     },
     "execution_count": 23,
     "metadata": {},
     "output_type": "execute_result"
    }
   ],
   "source": [
    "square(3) #3 this is a generator object"
   ]
  },
  {
   "cell_type": "code",
   "execution_count": 24,
   "id": "28c4208e",
   "metadata": {},
   "outputs": [
    {
     "name": "stdout",
     "output_type": "stream",
     "text": [
      "0\n",
      "1\n",
      "4\n"
     ]
    }
   ],
   "source": [
    "# we can traverse an iterator using for loop\n",
    "# yield keyword will not just return wrt one iteration\n",
    "# it will return wrt all iterations present\n",
    "\n",
    "\n",
    "for i in square(3):\n",
    "    print(i)"
   ]
  },
  {
   "cell_type": "code",
   "execution_count": 27,
   "id": "f60eb9fd",
   "metadata": {},
   "outputs": [
    {
     "data": {
      "text/plain": [
       "<generator object square at 0x0000022049B4EE90>"
      ]
     },
     "execution_count": 27,
     "metadata": {},
     "output_type": "execute_result"
    }
   ],
   "source": [
    "a=square(3)\n",
    "a # a is an generator object"
   ]
  },
  {
   "cell_type": "code",
   "execution_count": 28,
   "id": "41eb8242",
   "metadata": {},
   "outputs": [
    {
     "data": {
      "text/plain": [
       "0"
      ]
     },
     "execution_count": 28,
     "metadata": {},
     "output_type": "execute_result"
    }
   ],
   "source": [
    "# for generator object also if we will use next, we will be \n",
    "# able to iterate it. that means whatever we have created\n",
    "# is an iterator\n",
    "\n",
    "## BY USING GENERATOR ALSO WE CAN CREATE AN ITERATOR\n",
    "\n",
    "\n",
    "next(a) "
   ]
  },
  {
   "cell_type": "code",
   "execution_count": 29,
   "id": "cabcc97e",
   "metadata": {},
   "outputs": [],
   "source": [
    "# diff between generator and iterator"
   ]
  },
  {
   "cell_type": "markdown",
   "id": "a3352e76",
   "metadata": {},
   "source": [
    "#### Difference \n",
    "\n",
    "1. to create iterator we use iter function for generator we use function along with yield keyword\n",
    "2. generator uses yield keyword. it saves the local variable value\n",
    "3. generator in python helps us to erite fast and compact code\n",
    "4. python iterator is much more memory efficient"
   ]
  },
  {
   "cell_type": "code",
   "execution_count": 30,
   "id": "34905ee7",
   "metadata": {},
   "outputs": [],
   "source": [
    "import types,collections"
   ]
  },
  {
   "cell_type": "code",
   "execution_count": 32,
   "id": "11530b51",
   "metadata": {},
   "outputs": [
    {
     "ename": "AttributeError",
     "evalue": "module 'collections' has no attribute 'Iterator'",
     "output_type": "error",
     "traceback": [
      "\u001b[1;31m---------------------------------------------------------------------------\u001b[0m",
      "\u001b[1;31mAttributeError\u001b[0m                            Traceback (most recent call last)",
      "Cell \u001b[1;32mIn[32], line 1\u001b[0m\n\u001b[1;32m----> 1\u001b[0m \u001b[38;5;28missubclass\u001b[39m(types\u001b[38;5;241m.\u001b[39mGeneratorType,collections\u001b[38;5;241m.\u001b[39mIterator)\n",
      "\u001b[1;31mAttributeError\u001b[0m: module 'collections' has no attribute 'Iterator'"
     ]
    }
   ],
   "source": [
    "issubclass(types.GeneratorType,collections.Iterator)"
   ]
  },
  {
   "cell_type": "code",
   "execution_count": 33,
   "id": "25a7e013",
   "metadata": {},
   "outputs": [],
   "source": [
    "# generator is also an iterator. inheriting from the iterato\n"
   ]
  },
  {
   "cell_type": "code",
   "execution_count": null,
   "id": "3496335c",
   "metadata": {},
   "outputs": [],
   "source": []
  },
  {
   "cell_type": "markdown",
   "id": "1357ddf4",
   "metadata": {},
   "source": [
    "#### Python Decorators"
   ]
  },
  {
   "cell_type": "code",
   "execution_count": 35,
   "id": "7bca1be6",
   "metadata": {},
   "outputs": [],
   "source": [
    "# function copy\n",
    "# closures\n",
    "# decorators"
   ]
  },
  {
   "cell_type": "code",
   "execution_count": 36,
   "id": "414dd15f",
   "metadata": {},
   "outputs": [],
   "source": [
    "def welcome():\n",
    "    print('Hello welcome')"
   ]
  },
  {
   "cell_type": "code",
   "execution_count": 37,
   "id": "efbe3732",
   "metadata": {},
   "outputs": [
    {
     "name": "stdout",
     "output_type": "stream",
     "text": [
      "Hello welcome\n"
     ]
    }
   ],
   "source": [
    "wel = welcome()"
   ]
  },
  {
   "cell_type": "code",
   "execution_count": 38,
   "id": "80ffdcb7",
   "metadata": {},
   "outputs": [],
   "source": [
    "def welcome():\n",
    "    return 'Hello welcome'"
   ]
  },
  {
   "cell_type": "code",
   "execution_count": 39,
   "id": "298bcac9",
   "metadata": {},
   "outputs": [],
   "source": [
    "wel = welcome()"
   ]
  },
  {
   "cell_type": "code",
   "execution_count": 40,
   "id": "dd582585",
   "metadata": {},
   "outputs": [
    {
     "data": {
      "text/plain": [
       "'Hello welcome'"
      ]
     },
     "execution_count": 40,
     "metadata": {},
     "output_type": "execute_result"
    }
   ],
   "source": [
    "wel"
   ]
  },
  {
   "cell_type": "code",
   "execution_count": 41,
   "id": "d38a009d",
   "metadata": {},
   "outputs": [],
   "source": [
    "wel = welcome()\n",
    "del welcome"
   ]
  },
  {
   "cell_type": "code",
   "execution_count": 44,
   "id": "b6e2ed3a",
   "metadata": {},
   "outputs": [
    {
     "data": {
      "text/plain": [
       "'Hello welcome'"
      ]
     },
     "execution_count": 44,
     "metadata": {},
     "output_type": "execute_result"
    }
   ],
   "source": [
    "# this will still give output as it has copied the function\n",
    "# inside variable wel\n",
    "\n",
    "wel"
   ]
  },
  {
   "cell_type": "code",
   "execution_count": 46,
   "id": "013b74ec",
   "metadata": {},
   "outputs": [],
   "source": [
    "# this is the idea about function copy"
   ]
  },
  {
   "cell_type": "code",
   "execution_count": 45,
   "id": "1490f6fe",
   "metadata": {},
   "outputs": [
    {
     "ename": "NameError",
     "evalue": "name 'welcome' is not defined",
     "output_type": "error",
     "traceback": [
      "\u001b[1;31m---------------------------------------------------------------------------\u001b[0m",
      "\u001b[1;31mNameError\u001b[0m                                 Traceback (most recent call last)",
      "Cell \u001b[1;32mIn[45], line 1\u001b[0m\n\u001b[1;32m----> 1\u001b[0m welcome()\n",
      "\u001b[1;31mNameError\u001b[0m: name 'welcome' is not defined"
     ]
    }
   ],
   "source": [
    "welcome()"
   ]
  },
  {
   "cell_type": "code",
   "execution_count": 47,
   "id": "8f3788c4",
   "metadata": {},
   "outputs": [],
   "source": [
    "## CLOSURES"
   ]
  },
  {
   "cell_type": "code",
   "execution_count": 55,
   "id": "b960bc64",
   "metadata": {},
   "outputs": [],
   "source": [
    "def main_welcome():\n",
    "    msg='Hello Everyone'\n",
    "    def sub_welcome_class():\n",
    "        print('Welcome to my class. ')\n",
    "        print(msg)\n",
    "        print('glad to see you all')\n",
    "    return sub_welcome_class()"
   ]
  },
  {
   "cell_type": "code",
   "execution_count": 56,
   "id": "179980c2",
   "metadata": {},
   "outputs": [
    {
     "name": "stdout",
     "output_type": "stream",
     "text": [
      "Welcome to my class. \n",
      "Hello Everyone\n",
      "glad to see you all\n"
     ]
    }
   ],
   "source": [
    "main_welcome()"
   ]
  },
  {
   "cell_type": "code",
   "execution_count": 57,
   "id": "45638824",
   "metadata": {},
   "outputs": [],
   "source": [
    "def main_welcome(msg):\n",
    "    \n",
    "    def sub_welcome_class():\n",
    "        print('Welcome to my class. ')\n",
    "        print(msg)\n",
    "        print('glad to see you all')\n",
    "    return sub_welcome_class()"
   ]
  },
  {
   "cell_type": "code",
   "execution_count": 58,
   "id": "9c1c6490",
   "metadata": {
    "scrolled": true
   },
   "outputs": [
    {
     "name": "stdout",
     "output_type": "stream",
     "text": [
      "Welcome to my class. \n",
      "Anjali\n",
      "glad to see you all\n"
     ]
    }
   ],
   "source": [
    "main_welcome('Anjali')"
   ]
  },
  {
   "cell_type": "markdown",
   "id": "01a6e509",
   "metadata": {},
   "source": [
    "in closures you write a parent function and then define a sub function inside it and the varibles used in parent function can be accessed in the sub function."
   ]
  },
  {
   "cell_type": "code",
   "execution_count": 65,
   "id": "1bae1c93",
   "metadata": {},
   "outputs": [],
   "source": [
    "## Closures --> starting of the initial Decorators\n",
    "# inside a fnction we can also give a parameter as a function\n",
    "# instead of a variable or a message\n",
    "\n",
    "def main_welcome(func):\n",
    "    \n",
    "    def sub_welcome_class():\n",
    "        print('Welcome to my class. ')\n",
    "        func(\"Anjali hi \")\n",
    "        print('glad to see you all')\n",
    "    return sub_welcome_class()"
   ]
  },
  {
   "cell_type": "code",
   "execution_count": 64,
   "id": "1163726c",
   "metadata": {},
   "outputs": [
    {
     "name": "stdout",
     "output_type": "stream",
     "text": [
      "Welcome to my class. \n",
      "Anjali hi \n",
      "glad to see you all\n"
     ]
    }
   ],
   "source": [
    "main_welcome(print)"
   ]
  },
  {
   "cell_type": "code",
   "execution_count": 66,
   "id": "a7424562",
   "metadata": {},
   "outputs": [],
   "source": [
    "def main_welcome(func):\n",
    "    \n",
    "    def sub_welcome_class():\n",
    "        print('Welcome to my class. ')\n",
    "        print(func([1,2,3,4,5,6,7]))\n",
    "        print('glad to see you all')\n",
    "    return sub_welcome_class()"
   ]
  },
  {
   "cell_type": "code",
   "execution_count": 69,
   "id": "699882f5",
   "metadata": {},
   "outputs": [
    {
     "name": "stdout",
     "output_type": "stream",
     "text": [
      "Welcome to my class. \n",
      "7\n",
      "glad to see you all\n"
     ]
    }
   ],
   "source": [
    "main_welcome(len) \n",
    "\n",
    "# this is wrt to the inbuilt functions"
   ]
  },
  {
   "cell_type": "code",
   "execution_count": 71,
   "id": "f72f2943",
   "metadata": {},
   "outputs": [],
   "source": [
    "# now creating own function and giving it as parameter"
   ]
  },
  {
   "cell_type": "code",
   "execution_count": 72,
   "id": "aa439ed1",
   "metadata": {},
   "outputs": [],
   "source": [
    "def channel_name():\n",
    "    print('This is my channel')"
   ]
  },
  {
   "cell_type": "code",
   "execution_count": 73,
   "id": "0c0d0923",
   "metadata": {},
   "outputs": [],
   "source": [
    "# DECORATORS now\n",
    "\n",
    "def main_welcome(func):\n",
    "    \n",
    "    def sub_welcome_class():\n",
    "        print('Welcome to my class. ')\n",
    "        func()\n",
    "        print('glad to see you all')\n",
    "    return sub_welcome_class()"
   ]
  },
  {
   "cell_type": "code",
   "execution_count": 76,
   "id": "f8ee1ce4",
   "metadata": {},
   "outputs": [
    {
     "name": "stdout",
     "output_type": "stream",
     "text": [
      "Welcome to my class. \n",
      "This is my channel\n",
      "glad to see you all\n"
     ]
    }
   ],
   "source": [
    "a=main_welcome(channel_name) # one way of calling this aprticular function\n"
   ]
  },
  {
   "cell_type": "code",
   "execution_count": 77,
   "id": "9c110303",
   "metadata": {},
   "outputs": [],
   "source": [
    "# another way is to define a decorator"
   ]
  },
  {
   "cell_type": "code",
   "execution_count": 78,
   "id": "e0b045af",
   "metadata": {},
   "outputs": [
    {
     "name": "stdout",
     "output_type": "stream",
     "text": [
      "Welcome to my class. \n",
      "This is my channel\n",
      "glad to see you all\n"
     ]
    }
   ],
   "source": [
    "# this way initialization will happen \n",
    "# and we will be calling the main_welcome() with channel_name as pareameter.\n",
    "\n",
    "\n",
    "@main_welcome\n",
    "def channel_name():\n",
    "    print('This is my channel')"
   ]
  },
  {
   "cell_type": "markdown",
   "id": "7d35968d",
   "metadata": {},
   "source": [
    " ##### Difference between is keyword and =="
   ]
  },
  {
   "cell_type": "code",
   "execution_count": 79,
   "id": "5664645b",
   "metadata": {},
   "outputs": [],
   "source": [
    "lst1 = [1,2,3,4]\n",
    "lst2 = [1,2,3,4]"
   ]
  },
  {
   "cell_type": "code",
   "execution_count": 86,
   "id": "1d30fe1f",
   "metadata": {},
   "outputs": [
    {
     "data": {
      "text/plain": [
       "True"
      ]
     },
     "execution_count": 86,
     "metadata": {},
     "output_type": "execute_result"
    }
   ],
   "source": [
    "lst1 == lst2 # comparing\n",
    "# two different memory locations"
   ]
  },
  {
   "cell_type": "code",
   "execution_count": 82,
   "id": "465063eb",
   "metadata": {},
   "outputs": [
    {
     "data": {
      "text/plain": [
       "False"
      ]
     },
     "execution_count": 82,
     "metadata": {},
     "output_type": "execute_result"
    }
   ],
   "source": [
    "lst1 is lst2"
   ]
  },
  {
   "cell_type": "code",
   "execution_count": 83,
   "id": "46cefff6",
   "metadata": {},
   "outputs": [],
   "source": [
    "lst = [1,2,3,4]\n",
    "lst2=lst1 # only one object created in memory and only its 2 refences to same object are created"
   ]
  },
  {
   "cell_type": "code",
   "execution_count": 84,
   "id": "585e5539",
   "metadata": {},
   "outputs": [
    {
     "data": {
      "text/plain": [
       "True"
      ]
     },
     "execution_count": 84,
     "metadata": {},
     "output_type": "execute_result"
    }
   ],
   "source": [
    "lst1 is lst2"
   ]
  },
  {
   "cell_type": "code",
   "execution_count": 85,
   "id": "4c66cc3a",
   "metadata": {},
   "outputs": [
    {
     "data": {
      "text/plain": [
       "True"
      ]
     },
     "execution_count": 85,
     "metadata": {},
     "output_type": "execute_result"
    }
   ],
   "source": [
    "lst2 is lst1"
   ]
  },
  {
   "cell_type": "code",
   "execution_count": 92,
   "id": "96b70b8d",
   "metadata": {},
   "outputs": [],
   "source": [
    "# change in any one of the list will also change another"
   ]
  },
  {
   "cell_type": "code",
   "execution_count": 93,
   "id": "1f4ab509",
   "metadata": {},
   "outputs": [
    {
     "data": {
      "text/plain": [
       "4"
      ]
     },
     "execution_count": 93,
     "metadata": {},
     "output_type": "execute_result"
    }
   ],
   "source": [
    "lst2[0]"
   ]
  },
  {
   "cell_type": "code",
   "execution_count": 94,
   "id": "91bcbb76",
   "metadata": {},
   "outputs": [],
   "source": [
    "lst2[0] = 4"
   ]
  },
  {
   "cell_type": "code",
   "execution_count": 95,
   "id": "f7926043",
   "metadata": {},
   "outputs": [
    {
     "data": {
      "text/plain": [
       "[4, 2, 3, 4]"
      ]
     },
     "execution_count": 95,
     "metadata": {},
     "output_type": "execute_result"
    }
   ],
   "source": [
    "lst2"
   ]
  },
  {
   "cell_type": "code",
   "execution_count": 96,
   "id": "874cf8cd",
   "metadata": {},
   "outputs": [
    {
     "data": {
      "text/plain": [
       "[4, 2, 3, 4]"
      ]
     },
     "execution_count": 96,
     "metadata": {},
     "output_type": "execute_result"
    }
   ],
   "source": [
    "lst1"
   ]
  },
  {
   "cell_type": "code",
   "execution_count": null,
   "id": "0a80cd1b",
   "metadata": {},
   "outputs": [],
   "source": []
  },
  {
   "cell_type": "markdown",
   "id": "1fda28b7",
   "metadata": {},
   "source": [
    "#### Shallow Copy vs Deep Copy"
   ]
  },
  {
   "cell_type": "code",
   "execution_count": 155,
   "id": "5f7a6a9e",
   "metadata": {},
   "outputs": [],
   "source": [
    "# =, copy(), deepcopy()"
   ]
  },
  {
   "cell_type": "code",
   "execution_count": 156,
   "id": "3609c052",
   "metadata": {},
   "outputs": [],
   "source": [
    "lst1 = [1,2,3,4]\n",
    "lst2 = lst1 # list2 is assigned with list1"
   ]
  },
  {
   "cell_type": "code",
   "execution_count": 157,
   "id": "eefc788d",
   "metadata": {},
   "outputs": [
    {
     "data": {
      "text/plain": [
       "([1, 2, 3, 4], [1, 2, 3, 4])"
      ]
     },
     "execution_count": 157,
     "metadata": {},
     "output_type": "execute_result"
    }
   ],
   "source": [
    "lst1, lst2"
   ]
  },
  {
   "cell_type": "code",
   "execution_count": 158,
   "id": "1707e246",
   "metadata": {},
   "outputs": [
    {
     "data": {
      "text/plain": [
       "1"
      ]
     },
     "execution_count": 158,
     "metadata": {},
     "output_type": "execute_result"
    }
   ],
   "source": [
    "lst2[0]"
   ]
  },
  {
   "cell_type": "code",
   "execution_count": 159,
   "id": "d747fdb8",
   "metadata": {},
   "outputs": [],
   "source": [
    "lst2[1] = 1000"
   ]
  },
  {
   "cell_type": "code",
   "execution_count": 160,
   "id": "d87302f1",
   "metadata": {},
   "outputs": [
    {
     "data": {
      "text/plain": [
       "([1, 1000, 3, 4], [1, 1000, 3, 4])"
      ]
     },
     "execution_count": 160,
     "metadata": {},
     "output_type": "execute_result"
    }
   ],
   "source": [
    "lst1, lst2"
   ]
  },
  {
   "cell_type": "code",
   "execution_count": 161,
   "id": "7b00d89b",
   "metadata": {},
   "outputs": [],
   "source": [
    "# copy operation\n",
    "# shallow copy\n",
    "\n",
    "lst1 = [1,2,3,4]\n",
    "lst2 = lst1.copy() # this will make a different memory location not the same one"
   ]
  },
  {
   "cell_type": "code",
   "execution_count": 162,
   "id": "dca8c6f9",
   "metadata": {},
   "outputs": [
    {
     "data": {
      "text/plain": [
       "[1, 2, 3, 4]"
      ]
     },
     "execution_count": 162,
     "metadata": {},
     "output_type": "execute_result"
    }
   ],
   "source": [
    "lst2\n"
   ]
  },
  {
   "cell_type": "code",
   "execution_count": 163,
   "id": "2984f73c",
   "metadata": {},
   "outputs": [
    {
     "data": {
      "text/plain": [
       "2"
      ]
     },
     "execution_count": 163,
     "metadata": {},
     "output_type": "execute_result"
    }
   ],
   "source": [
    "lst2[1]"
   ]
  },
  {
   "cell_type": "code",
   "execution_count": 164,
   "id": "f207dfd3",
   "metadata": {},
   "outputs": [],
   "source": [
    "lst2[1] = 1000"
   ]
  },
  {
   "cell_type": "code",
   "execution_count": 165,
   "id": "13ea1e0e",
   "metadata": {},
   "outputs": [
    {
     "data": {
      "text/plain": [
       "([1, 2, 3, 4], [1, 1000, 3, 4])"
      ]
     },
     "execution_count": 165,
     "metadata": {},
     "output_type": "execute_result"
    }
   ],
   "source": [
    "lst1, lst2"
   ]
  },
  {
   "cell_type": "code",
   "execution_count": 166,
   "id": "dd6c4b82",
   "metadata": {},
   "outputs": [],
   "source": [
    "# shallowcopy wrt nested list\n",
    "\n",
    "lst1 = [[1,2,3,4],[5,6,7,8]]\n",
    "lst2 = lst1.copy()"
   ]
  },
  {
   "cell_type": "code",
   "execution_count": 167,
   "id": "be643090",
   "metadata": {},
   "outputs": [
    {
     "data": {
      "text/plain": [
       "[[1, 2, 3, 4], [5, 6, 7, 8]]"
      ]
     },
     "execution_count": 167,
     "metadata": {},
     "output_type": "execute_result"
    }
   ],
   "source": [
    "lst1"
   ]
  },
  {
   "cell_type": "code",
   "execution_count": 168,
   "id": "7866b3cf",
   "metadata": {},
   "outputs": [
    {
     "data": {
      "text/plain": [
       "[[1, 2, 3, 4], [5, 6, 7, 8]]"
      ]
     },
     "execution_count": 168,
     "metadata": {},
     "output_type": "execute_result"
    }
   ],
   "source": [
    "lst2"
   ]
  },
  {
   "cell_type": "code",
   "execution_count": 169,
   "id": "d20ec4f5",
   "metadata": {},
   "outputs": [
    {
     "data": {
      "text/plain": [
       "5"
      ]
     },
     "execution_count": 169,
     "metadata": {},
     "output_type": "execute_result"
    }
   ],
   "source": [
    "lst1[1][0]"
   ]
  },
  {
   "cell_type": "code",
   "execution_count": 170,
   "id": "d6b3a71b",
   "metadata": {},
   "outputs": [],
   "source": [
    "lst1[1][0] = 100 # changes made in list1 will also change list "
   ]
  },
  {
   "cell_type": "code",
   "execution_count": 171,
   "id": "31f1e94a",
   "metadata": {},
   "outputs": [
    {
     "data": {
      "text/plain": [
       "[[1, 2, 3, 4], [100, 6, 7, 8]]"
      ]
     },
     "execution_count": 171,
     "metadata": {},
     "output_type": "execute_result"
    }
   ],
   "source": [
    "lst1"
   ]
  },
  {
   "cell_type": "code",
   "execution_count": 172,
   "id": "6921b6b5",
   "metadata": {},
   "outputs": [
    {
     "data": {
      "text/plain": [
       "[[1, 2, 3, 4], [100, 6, 7, 8]]"
      ]
     },
     "execution_count": 172,
     "metadata": {},
     "output_type": "execute_result"
    }
   ],
   "source": [
    "lst2"
   ]
  },
  {
   "cell_type": "code",
   "execution_count": 173,
   "id": "1cec421e",
   "metadata": {},
   "outputs": [],
   "source": [
    "lst1.append([2,3,4,5]) # this items will not get appended to list2\n",
    "\n",
    "# make a change only when chnage in an object is made\n",
    "# only the changes that you made inside the orig list will chnage list2"
   ]
  },
  {
   "cell_type": "code",
   "execution_count": 174,
   "id": "98715a51",
   "metadata": {},
   "outputs": [
    {
     "data": {
      "text/plain": [
       "[[1, 2, 3, 4], [100, 6, 7, 8], [2, 3, 4, 5]]"
      ]
     },
     "execution_count": 174,
     "metadata": {},
     "output_type": "execute_result"
    }
   ],
   "source": [
    "lst1"
   ]
  },
  {
   "cell_type": "code",
   "execution_count": 175,
   "id": "a9d2fe99",
   "metadata": {},
   "outputs": [
    {
     "data": {
      "text/plain": [
       "[[1, 2, 3, 4], [100, 6, 7, 8]]"
      ]
     },
     "execution_count": 175,
     "metadata": {},
     "output_type": "execute_result"
    }
   ],
   "source": [
    "lst2"
   ]
  },
  {
   "cell_type": "code",
   "execution_count": 147,
   "id": "2e949581",
   "metadata": {},
   "outputs": [],
   "source": [
    "## deepcopy"
   ]
  },
  {
   "cell_type": "code",
   "execution_count": 176,
   "id": "7eac5215",
   "metadata": {},
   "outputs": [],
   "source": [
    "import copy\n",
    "\n",
    "lst1 = [1,2,3,4]\n",
    "lst2 = copy.deepcopy(lst1)"
   ]
  },
  {
   "cell_type": "code",
   "execution_count": 177,
   "id": "c1759226",
   "metadata": {},
   "outputs": [
    {
     "data": {
      "text/plain": [
       "[1, 2, 3, 4]"
      ]
     },
     "execution_count": 177,
     "metadata": {},
     "output_type": "execute_result"
    }
   ],
   "source": [
    "lst1"
   ]
  },
  {
   "cell_type": "code",
   "execution_count": 178,
   "id": "e705a840",
   "metadata": {},
   "outputs": [
    {
     "data": {
      "text/plain": [
       "[1, 2, 3, 4]"
      ]
     },
     "execution_count": 178,
     "metadata": {},
     "output_type": "execute_result"
    }
   ],
   "source": [
    "lst2"
   ]
  },
  {
   "cell_type": "code",
   "execution_count": 179,
   "id": "3a758d88",
   "metadata": {},
   "outputs": [],
   "source": [
    "lst2[1] = 100"
   ]
  },
  {
   "cell_type": "code",
   "execution_count": 180,
   "id": "98fd7e37",
   "metadata": {},
   "outputs": [
    {
     "data": {
      "text/plain": [
       "[1, 100, 3, 4]"
      ]
     },
     "execution_count": 180,
     "metadata": {},
     "output_type": "execute_result"
    }
   ],
   "source": [
    "lst2"
   ]
  },
  {
   "cell_type": "code",
   "execution_count": 181,
   "id": "809e383f",
   "metadata": {},
   "outputs": [
    {
     "data": {
      "text/plain": [
       "[1, 2, 3, 4]"
      ]
     },
     "execution_count": 181,
     "metadata": {},
     "output_type": "execute_result"
    }
   ],
   "source": [
    "lst1"
   ]
  },
  {
   "cell_type": "code",
   "execution_count": 182,
   "id": "b373d3bb",
   "metadata": {},
   "outputs": [],
   "source": [
    "## in single D list shallow copy = deep copy"
   ]
  },
  {
   "cell_type": "code",
   "execution_count": 184,
   "id": "088662b1",
   "metadata": {},
   "outputs": [],
   "source": [
    "lst1 = [[1,2,3],[3,4,5],[5,6,7]]\n",
    "lst2=copy.deepcopy(lst1)"
   ]
  },
  {
   "cell_type": "code",
   "execution_count": 185,
   "id": "8fe5fb07",
   "metadata": {},
   "outputs": [
    {
     "data": {
      "text/plain": [
       "[[1, 2, 3], [3, 4, 5], [5, 6, 7]]"
      ]
     },
     "execution_count": 185,
     "metadata": {},
     "output_type": "execute_result"
    }
   ],
   "source": [
    "lst1"
   ]
  },
  {
   "cell_type": "code",
   "execution_count": 186,
   "id": "a571f225",
   "metadata": {},
   "outputs": [
    {
     "data": {
      "text/plain": [
       "[[1, 2, 3], [3, 4, 5], [5, 6, 7]]"
      ]
     },
     "execution_count": 186,
     "metadata": {},
     "output_type": "execute_result"
    }
   ],
   "source": [
    "lst2"
   ]
  },
  {
   "cell_type": "code",
   "execution_count": 191,
   "id": "e86ac4f2",
   "metadata": {},
   "outputs": [],
   "source": [
    "lst2[1][0] = 100 # this will cahnge only list2"
   ]
  },
  {
   "cell_type": "code",
   "execution_count": 192,
   "id": "0c0d5dda",
   "metadata": {},
   "outputs": [
    {
     "data": {
      "text/plain": [
       "[[1, 2, 3], [100, 4, 5], [5, 6, 7]]"
      ]
     },
     "execution_count": 192,
     "metadata": {},
     "output_type": "execute_result"
    }
   ],
   "source": [
    "lst2"
   ]
  },
  {
   "cell_type": "code",
   "execution_count": 193,
   "id": "44860750",
   "metadata": {},
   "outputs": [
    {
     "data": {
      "text/plain": [
       "[[1, 2, 3], [3, 4, 5], [5, 6, 7]]"
      ]
     },
     "execution_count": 193,
     "metadata": {},
     "output_type": "execute_result"
    }
   ],
   "source": [
    "lst1"
   ]
  },
  {
   "cell_type": "code",
   "execution_count": 194,
   "id": "9743a401",
   "metadata": {},
   "outputs": [],
   "source": [
    "# creating s differnt memory location \n"
   ]
  },
  {
   "cell_type": "markdown",
   "id": "ce17f771",
   "metadata": {},
   "source": [
    "### CLass Method and Class Variables"
   ]
  },
  {
   "cell_type": "code",
   "execution_count": 1,
   "id": "09ad6526",
   "metadata": {},
   "outputs": [],
   "source": [
    "class Car:\n",
    "    base_price = 100000  # class variable\n",
    "    def __init__(self,windows,doors,power):  # initialization constructor\n",
    "        self.windows = windows  # instance variables getting created\n",
    "        self.doors = doors\n",
    "        self.power = power\n",
    "    def what_base_price(self):\n",
    "        print('The base price is {}'.format(self.base_price))"
   ]
  },
  {
   "cell_type": "code",
   "execution_count": 2,
   "id": "f5a6f9b4",
   "metadata": {},
   "outputs": [],
   "source": [
    "car1 = Car(4,5,2000)"
   ]
  },
  {
   "cell_type": "code",
   "execution_count": 3,
   "id": "d60e1fc9",
   "metadata": {},
   "outputs": [
    {
     "data": {
      "text/plain": [
       "100000"
      ]
     },
     "execution_count": 3,
     "metadata": {},
     "output_type": "execute_result"
    }
   ],
   "source": [
    "car1.base_price"
   ]
  },
  {
   "cell_type": "code",
   "execution_count": 5,
   "id": "b7203763",
   "metadata": {},
   "outputs": [
    {
     "data": {
      "text/plain": [
       "100000"
      ]
     },
     "execution_count": 5,
     "metadata": {},
     "output_type": "execute_result"
    }
   ],
   "source": [
    "Car.base_price"
   ]
  },
  {
   "cell_type": "code",
   "execution_count": 6,
   "id": "c0a8a3af",
   "metadata": {},
   "outputs": [],
   "source": [
    "class Car:\n",
    "    base_price = 100000  # class variable\n",
    "    def __init__(self,windows,doors,power):  # initialization constructor\n",
    "        self.windows = windows  # instance variables getting created\n",
    "        self.doors = doors\n",
    "        self.power = power\n",
    "    def what_base_price(self):\n",
    "        print('The base price is {}'.format(self.base_price))\n",
    "    @classmethod\n",
    "    def revise_base_price(cls, inflation):\n",
    "        cls.base_price = cls.base_price + cls.base_price * inflation\n",
    "        "
   ]
  },
  {
   "cell_type": "code",
   "execution_count": 7,
   "id": "910ae30b",
   "metadata": {},
   "outputs": [],
   "source": [
    "Car.revise_base_price(0.10)"
   ]
  },
  {
   "cell_type": "code",
   "execution_count": 9,
   "id": "aead6b66",
   "metadata": {},
   "outputs": [
    {
     "data": {
      "text/plain": [
       "110000.0"
      ]
     },
     "execution_count": 9,
     "metadata": {},
     "output_type": "execute_result"
    }
   ],
   "source": [
    "Car.base_price"
   ]
  },
  {
   "cell_type": "code",
   "execution_count": 10,
   "id": "e43b81f6",
   "metadata": {},
   "outputs": [],
   "source": [
    "## STATIC METHODS IN PYTHON"
   ]
  },
  {
   "cell_type": "code",
   "execution_count": 15,
   "id": "104bae18",
   "metadata": {},
   "outputs": [],
   "source": [
    "import datetime\n",
    "now = datetime.datetime.now()\n",
    "\n",
    "class Car:\n",
    "    base_price = 100000  # class variable\n",
    "    def __init__(self,windows,doors,power):  # initialization constructor\n",
    "        self.windows = windows  # instance variables getting created\n",
    "        self.doors = doors\n",
    "        self.power = power\n",
    "    def what_base_price(self):\n",
    "        print('The base price is {}'.format(self.base_price))\n",
    "    @classmethod\n",
    "    def revise_base_price(cls, inflation):\n",
    "        cls.base_price = cls.base_price + cls.base_price * inflation\n",
    "        \n",
    "    @staticmethod\n",
    "    def check_year(): # no need to provide instance or cls parameter\n",
    "        if now.year == 2024:\n",
    "            return True\n",
    "        else:\n",
    "            return False\n",
    "        "
   ]
  },
  {
   "cell_type": "markdown",
   "id": "5f08917a",
   "metadata": {},
   "source": [
    "as soon as class is loaded the first thing getting initialized is a static method\n",
    "it is quite fast\n",
    "multiple copies of static methods cannot be created\n",
    "only one instance of this method is available "
   ]
  },
  {
   "cell_type": "code",
   "execution_count": 16,
   "id": "e9ab179a",
   "metadata": {},
   "outputs": [
    {
     "data": {
      "text/plain": [
       "True"
      ]
     },
     "execution_count": 16,
     "metadata": {},
     "output_type": "execute_result"
    }
   ],
   "source": [
    "Car.check_year()"
   ]
  },
  {
   "cell_type": "code",
   "execution_count": 17,
   "id": "0604a903",
   "metadata": {},
   "outputs": [],
   "source": [
    "car1 = Car(4,5,2000)"
   ]
  },
  {
   "cell_type": "code",
   "execution_count": 18,
   "id": "7d507d28",
   "metadata": {},
   "outputs": [
    {
     "data": {
      "text/plain": [
       "True"
      ]
     },
     "execution_count": 18,
     "metadata": {},
     "output_type": "execute_result"
    }
   ],
   "source": [
    "car1.check_year()"
   ]
  },
  {
   "cell_type": "code",
   "execution_count": 19,
   "id": "08ff3d34",
   "metadata": {},
   "outputs": [],
   "source": [
    "if (car1.check_year()):\n",
    "    pass\n",
    "else:\n",
    "    Car.revise_base_price()"
   ]
  },
  {
   "cell_type": "code",
   "execution_count": 20,
   "id": "dcff3664",
   "metadata": {},
   "outputs": [
    {
     "data": {
      "text/plain": [
       "100000"
      ]
     },
     "execution_count": 20,
     "metadata": {},
     "output_type": "execute_result"
    }
   ],
   "source": [
    "car1.base_price"
   ]
  },
  {
   "cell_type": "markdown",
   "id": "0a31f14c",
   "metadata": {},
   "source": [
    "### OOPs Multiple Inheritence\n"
   ]
  },
  {
   "cell_type": "code",
   "execution_count": 21,
   "id": "fb90d079",
   "metadata": {},
   "outputs": [],
   "source": [
    "class A:\n",
    "    def method1(self):\n",
    "        print('A class method')"
   ]
  },
  {
   "cell_type": "code",
   "execution_count": 31,
   "id": "f33a59cc",
   "metadata": {},
   "outputs": [],
   "source": [
    "class B(A):\n",
    "    def method1(self):\n",
    "        print('B class method')\n",
    "    def method2(self):\n",
    "        print('B class method2')"
   ]
  },
  {
   "cell_type": "code",
   "execution_count": 32,
   "id": "b525fe86",
   "metadata": {},
   "outputs": [],
   "source": [
    "class C(A):\n",
    "    def method1(self):\n",
    "        print('C class method')"
   ]
  },
  {
   "cell_type": "code",
   "execution_count": 33,
   "id": "9493362d",
   "metadata": {},
   "outputs": [],
   "source": [
    "class D(B,C):# inheritedv from two diff base classes\n",
    "    def method1(self):\n",
    "        print('D class method')"
   ]
  },
  {
   "cell_type": "code",
   "execution_count": 34,
   "id": "7b43728a",
   "metadata": {},
   "outputs": [],
   "source": [
    "d = D()"
   ]
  },
  {
   "cell_type": "code",
   "execution_count": 35,
   "id": "b22bf26e",
   "metadata": {},
   "outputs": [
    {
     "name": "stdout",
     "output_type": "stream",
     "text": [
      "D class method\n"
     ]
    }
   ],
   "source": [
    "d.method1()"
   ]
  },
  {
   "cell_type": "code",
   "execution_count": 36,
   "id": "95ed4cfc",
   "metadata": {},
   "outputs": [
    {
     "name": "stdout",
     "output_type": "stream",
     "text": [
      "B class method2\n"
     ]
    }
   ],
   "source": [
    "d.method2()"
   ]
  },
  {
   "cell_type": "code",
   "execution_count": 38,
   "id": "5755bce4",
   "metadata": {},
   "outputs": [
    {
     "name": "stdout",
     "output_type": "stream",
     "text": [
      "B class method\n"
     ]
    }
   ],
   "source": [
    "B.method1(d) # calling B class method1 from child class D"
   ]
  },
  {
   "cell_type": "code",
   "execution_count": 39,
   "id": "bf7b4af1",
   "metadata": {},
   "outputs": [
    {
     "name": "stdout",
     "output_type": "stream",
     "text": [
      "A class method\n"
     ]
    }
   ],
   "source": [
    "A.method1(d)"
   ]
  },
  {
   "cell_type": "code",
   "execution_count": 40,
   "id": "457b2eb5",
   "metadata": {},
   "outputs": [],
   "source": [
    "# to call all methods"
   ]
  },
  {
   "cell_type": "code",
   "execution_count": 41,
   "id": "7e7a37fa",
   "metadata": {},
   "outputs": [],
   "source": [
    "class D(B,C):# inheritedv from two diff base classes\n",
    "    def method1(self):\n",
    "        print('D class method')\n",
    "        C.method1(self)\n",
    "        B.method1(self)\n",
    "        A.method1(self)"
   ]
  },
  {
   "cell_type": "code",
   "execution_count": 42,
   "id": "156b356c",
   "metadata": {},
   "outputs": [],
   "source": [
    "d = D()"
   ]
  },
  {
   "cell_type": "code",
   "execution_count": 43,
   "id": "bc82ce2d",
   "metadata": {},
   "outputs": [
    {
     "name": "stdout",
     "output_type": "stream",
     "text": [
      "D class method\n",
      "C class method\n",
      "B class method\n",
      "A class method\n"
     ]
    }
   ],
   "source": [
    "d.method1()"
   ]
  },
  {
   "cell_type": "markdown",
   "id": "b7a26733",
   "metadata": {},
   "source": [
    "### Python Eval function - Evaluating Expressions Dynamically"
   ]
  },
  {
   "cell_type": "code",
   "execution_count": 46,
   "id": "b853f761",
   "metadata": {},
   "outputs": [
    {
     "data": {
      "text/plain": [
       "25"
      ]
     },
     "execution_count": 46,
     "metadata": {},
     "output_type": "execute_result"
    }
   ],
   "source": [
    "# evaluates python expressions which are written as strings\n",
    "# should be a valid python expression\n",
    "\n",
    "eval(\"5*5\")"
   ]
  },
  {
   "cell_type": "code",
   "execution_count": 47,
   "id": "d8fd0310",
   "metadata": {},
   "outputs": [
    {
     "data": {
      "text/plain": [
       "28.5"
      ]
     },
     "execution_count": 47,
     "metadata": {},
     "output_type": "execute_result"
    }
   ],
   "source": [
    "eval(\"5*5+7/2\")"
   ]
  },
  {
   "cell_type": "code",
   "execution_count": 49,
   "id": "1acaf400",
   "metadata": {},
   "outputs": [
    {
     "name": "stdout",
     "output_type": "stream",
     "text": [
      "Enter the expression len([1,2,3,4,5])\n"
     ]
    },
    {
     "data": {
      "text/plain": [
       "5"
      ]
     },
     "execution_count": 49,
     "metadata": {},
     "output_type": "execute_result"
    }
   ],
   "source": [
    "eval(input('Enter the expression '))"
   ]
  },
  {
   "cell_type": "code",
   "execution_count": 50,
   "id": "4db43a7f",
   "metadata": {},
   "outputs": [
    {
     "name": "stdout",
     "output_type": "stream",
     "text": [
      "Enter the expression sum([1,2,3,4,5])\n"
     ]
    },
    {
     "data": {
      "text/plain": [
       "15"
      ]
     },
     "execution_count": 50,
     "metadata": {},
     "output_type": "execute_result"
    }
   ],
   "source": [
    "eval(input('Enter the expression '))"
   ]
  },
  {
   "cell_type": "code",
   "execution_count": 51,
   "id": "cefe4dca",
   "metadata": {},
   "outputs": [],
   "source": [
    "def square_num(num):\n",
    "    return num*2"
   ]
  },
  {
   "cell_type": "code",
   "execution_count": 52,
   "id": "6d2fda0f",
   "metadata": {},
   "outputs": [
    {
     "data": {
      "text/plain": [
       "4"
      ]
     },
     "execution_count": 52,
     "metadata": {},
     "output_type": "execute_result"
    }
   ],
   "source": [
    "square_num(2)"
   ]
  },
  {
   "cell_type": "code",
   "execution_count": 53,
   "id": "e640491b",
   "metadata": {},
   "outputs": [
    {
     "data": {
      "text/plain": [
       "10"
      ]
     },
     "execution_count": 53,
     "metadata": {},
     "output_type": "execute_result"
    }
   ],
   "source": [
    "eval(\"square_num(5)\")"
   ]
  },
  {
   "cell_type": "code",
   "execution_count": null,
   "id": "a50af585",
   "metadata": {},
   "outputs": [],
   "source": []
  },
  {
   "cell_type": "markdown",
   "id": "00784ca4",
   "metadata": {},
   "source": [
    "### Python OOPs - Public, Protected and Private"
   ]
  },
  {
   "cell_type": "code",
   "execution_count": 59,
   "id": "a92c7ecc",
   "metadata": {},
   "outputs": [],
   "source": [
    "class Car():\n",
    "    def __init__(self,windows,doors,enginetype):\n",
    "        self.windows = windows\n",
    "        self.doors = doors\n",
    "        self.enginetype = enginetype\n",
    "        \n",
    "        ## all these class variables here are public variables"
   ]
  },
  {
   "cell_type": "code",
   "execution_count": 60,
   "id": "a3dd2051",
   "metadata": {},
   "outputs": [],
   "source": [
    "audi = Car(4,5,'diesel')"
   ]
  },
  {
   "cell_type": "code",
   "execution_count": 69,
   "id": "a946424a",
   "metadata": {},
   "outputs": [],
   "source": [
    "audi.windows = 5 # overriden "
   ]
  },
  {
   "cell_type": "code",
   "execution_count": 70,
   "id": "4bdebcce",
   "metadata": {},
   "outputs": [
    {
     "data": {
      "text/plain": [
       "5"
      ]
     },
     "execution_count": 70,
     "metadata": {},
     "output_type": "execute_result"
    }
   ],
   "source": [
    "audi.windows"
   ]
  },
  {
   "cell_type": "code",
   "execution_count": null,
   "id": "bc70d576",
   "metadata": {},
   "outputs": [],
   "source": []
  },
  {
   "cell_type": "code",
   "execution_count": 64,
   "id": "2a3a34b7",
   "metadata": {},
   "outputs": [
    {
     "data": {
      "text/plain": [
       "['__class__',\n",
       " '__delattr__',\n",
       " '__dict__',\n",
       " '__dir__',\n",
       " '__doc__',\n",
       " '__eq__',\n",
       " '__format__',\n",
       " '__ge__',\n",
       " '__getattribute__',\n",
       " '__getstate__',\n",
       " '__gt__',\n",
       " '__hash__',\n",
       " '__init__',\n",
       " '__init_subclass__',\n",
       " '__le__',\n",
       " '__lt__',\n",
       " '__module__',\n",
       " '__ne__',\n",
       " '__new__',\n",
       " '__reduce__',\n",
       " '__reduce_ex__',\n",
       " '__repr__',\n",
       " '__setattr__',\n",
       " '__sizeof__',\n",
       " '__str__',\n",
       " '__subclasshook__',\n",
       " '__weakref__',\n",
       " 'doors',\n",
       " 'enginetype',\n",
       " 'windows']"
      ]
     },
     "execution_count": 64,
     "metadata": {},
     "output_type": "execute_result"
    }
   ],
   "source": [
    "dir(audi) \n",
    "\n",
    "# three last attributes are defined as public without underscore"
   ]
  },
  {
   "cell_type": "code",
   "execution_count": 83,
   "id": "3d1a8413",
   "metadata": {},
   "outputs": [],
   "source": [
    "# protected variables -> varibale name with underscore\n",
    "\n",
    "class Car():\n",
    "    def __init__(self,windows,doors,enginetype):\n",
    "        self._windows = windows\n",
    "        self._doors = doors\n",
    "        self._enginetype = enginetype"
   ]
  },
  {
   "cell_type": "code",
   "execution_count": 72,
   "id": "eefb6c44",
   "metadata": {},
   "outputs": [],
   "source": [
    "# protected can access from subclasses\n",
    "# and overriden can also be happen only through subclass\n"
   ]
  },
  {
   "cell_type": "code",
   "execution_count": 73,
   "id": "612b486b",
   "metadata": {},
   "outputs": [],
   "source": [
    "audi = Car(4,4,'diesel')"
   ]
  },
  {
   "cell_type": "code",
   "execution_count": 68,
   "id": "1e658726",
   "metadata": {},
   "outputs": [
    {
     "data": {
      "text/plain": [
       "['__class__',\n",
       " '__delattr__',\n",
       " '__dict__',\n",
       " '__dir__',\n",
       " '__doc__',\n",
       " '__eq__',\n",
       " '__format__',\n",
       " '__ge__',\n",
       " '__getattribute__',\n",
       " '__getstate__',\n",
       " '__gt__',\n",
       " '__hash__',\n",
       " '__init__',\n",
       " '__init_subclass__',\n",
       " '__le__',\n",
       " '__lt__',\n",
       " '__module__',\n",
       " '__ne__',\n",
       " '__new__',\n",
       " '__reduce__',\n",
       " '__reduce_ex__',\n",
       " '__repr__',\n",
       " '__setattr__',\n",
       " '__sizeof__',\n",
       " '__str__',\n",
       " '__subclasshook__',\n",
       " '__weakref__',\n",
       " '_doors',\n",
       " '_enginetype',\n",
       " '_windows']"
      ]
     },
     "execution_count": 68,
     "metadata": {},
     "output_type": "execute_result"
    }
   ],
   "source": [
    "dir(audi)"
   ]
  },
  {
   "cell_type": "code",
   "execution_count": 84,
   "id": "f45a3fe3",
   "metadata": {},
   "outputs": [],
   "source": [
    "class Truck(Car):\n",
    "    def __init__(self,windows,doors,enginetype,horsepower):\n",
    "        super().__init__(windows,doors,enginetype)\n",
    "        self.horsepower=horsepower\n",
    "        "
   ]
  },
  {
   "cell_type": "code",
   "execution_count": 85,
   "id": "7b34db22",
   "metadata": {},
   "outputs": [],
   "source": [
    "truck = Truck(4,4,'diesel',4000)"
   ]
  },
  {
   "cell_type": "code",
   "execution_count": 86,
   "id": "676c34c0",
   "metadata": {},
   "outputs": [
    {
     "data": {
      "text/plain": [
       "['__class__',\n",
       " '__delattr__',\n",
       " '__dict__',\n",
       " '__dir__',\n",
       " '__doc__',\n",
       " '__eq__',\n",
       " '__format__',\n",
       " '__ge__',\n",
       " '__getattribute__',\n",
       " '__getstate__',\n",
       " '__gt__',\n",
       " '__hash__',\n",
       " '__init__',\n",
       " '__init_subclass__',\n",
       " '__le__',\n",
       " '__lt__',\n",
       " '__module__',\n",
       " '__ne__',\n",
       " '__new__',\n",
       " '__reduce__',\n",
       " '__reduce_ex__',\n",
       " '__repr__',\n",
       " '__setattr__',\n",
       " '__sizeof__',\n",
       " '__str__',\n",
       " '__subclasshook__',\n",
       " '__weakref__',\n",
       " '_doors',\n",
       " '_enginetype',\n",
       " '_windows',\n",
       " 'horsepower']"
      ]
     },
     "execution_count": 86,
     "metadata": {},
     "output_type": "execute_result"
    }
   ],
   "source": [
    "dir(truck)"
   ]
  },
  {
   "cell_type": "code",
   "execution_count": 87,
   "id": "a4b6b94d",
   "metadata": {},
   "outputs": [],
   "source": [
    "truck._doors =  5"
   ]
  },
  {
   "cell_type": "code",
   "execution_count": 88,
   "id": "2eb0e1fd",
   "metadata": {},
   "outputs": [
    {
     "data": {
      "text/plain": [
       "5"
      ]
     },
     "execution_count": 88,
     "metadata": {},
     "output_type": "execute_result"
    }
   ],
   "source": [
    "truck._doors"
   ]
  },
  {
   "cell_type": "code",
   "execution_count": 89,
   "id": "c1d7bb28",
   "metadata": {},
   "outputs": [],
   "source": [
    "## Private variable\n",
    "# cannot be inherited, access, or overriden"
   ]
  },
  {
   "cell_type": "code",
   "execution_count": 91,
   "id": "15cb93ea",
   "metadata": {},
   "outputs": [],
   "source": [
    "class Car():\n",
    "    def __init__(self, windows, doors, enginetype):\n",
    "        self.__windows = windows\n",
    "        self.__doors = doors\n",
    "        self.__enginetype = enginetype"
   ]
  },
  {
   "cell_type": "code",
   "execution_count": 92,
   "id": "07fc95c5",
   "metadata": {},
   "outputs": [],
   "source": [
    "audi = Car(4,4,'diesel')"
   ]
  },
  {
   "cell_type": "code",
   "execution_count": 95,
   "id": "6600a03e",
   "metadata": {},
   "outputs": [
    {
     "data": {
      "text/plain": [
       "['_Car__doors',\n",
       " '_Car__enginetype',\n",
       " '_Car__windows',\n",
       " '__class__',\n",
       " '__delattr__',\n",
       " '__dict__',\n",
       " '__dir__',\n",
       " '__doc__',\n",
       " '__eq__',\n",
       " '__format__',\n",
       " '__ge__',\n",
       " '__getattribute__',\n",
       " '__getstate__',\n",
       " '__gt__',\n",
       " '__hash__',\n",
       " '__init__',\n",
       " '__init_subclass__',\n",
       " '__le__',\n",
       " '__lt__',\n",
       " '__module__',\n",
       " '__ne__',\n",
       " '__new__',\n",
       " '__reduce__',\n",
       " '__reduce_ex__',\n",
       " '__repr__',\n",
       " '__setattr__',\n",
       " '__sizeof__',\n",
       " '__str__',\n",
       " '__subclasshook__',\n",
       " '__weakref__']"
      ]
     },
     "execution_count": 95,
     "metadata": {},
     "output_type": "execute_result"
    }
   ],
   "source": [
    "dir(audi) \n",
    "\n",
    "## these variables cannot be initialized or acessed outside of this particular class\n",
    "## here i dont have any parameters like doors windows enginetype"
   ]
  },
  {
   "cell_type": "code",
   "execution_count": 96,
   "id": "58fcbcd1",
   "metadata": {},
   "outputs": [],
   "source": [
    "audi._Car__doors = 5 # cannot be modified outside of this class"
   ]
  },
  {
   "cell_type": "code",
   "execution_count": 97,
   "id": "83ceb28d",
   "metadata": {},
   "outputs": [
    {
     "data": {
      "text/plain": [
       "5"
      ]
     },
     "execution_count": 97,
     "metadata": {},
     "output_type": "execute_result"
    }
   ],
   "source": [
    "audi._Car__doors"
   ]
  },
  {
   "cell_type": "markdown",
   "id": "3349e15a",
   "metadata": {},
   "source": [
    "#### Multiple constructors in Python"
   ]
  },
  {
   "cell_type": "code",
   "execution_count": null,
   "id": "fa2444fd",
   "metadata": {},
   "outputs": [],
   "source": []
  },
  {
   "cell_type": "code",
   "execution_count": 101,
   "id": "13a9b5e2",
   "metadata": {},
   "outputs": [],
   "source": [
    "class Animal:\n",
    "    def __init__(self, name, species):\n",
    "        self.name = name\n",
    "        self.species = species\n",
    "        \n",
    "    def __init__(self, name, species, age):\n",
    "        self.name = name\n",
    "        self.species = species\n",
    "        self.age = age\n",
    "        \n",
    "    def make_sound(self, sound):\n",
    "        return 'The animal is {} and says {}'.format(self.name, sound)\n",
    "    "
   ]
  },
  {
   "cell_type": "code",
   "execution_count": 102,
   "id": "27f0a1e1",
   "metadata": {},
   "outputs": [
    {
     "ename": "TypeError",
     "evalue": "Animal.__init__() missing 1 required positional argument: 'age'",
     "output_type": "error",
     "traceback": [
      "\u001b[1;31m---------------------------------------------------------------------------\u001b[0m",
      "\u001b[1;31mTypeError\u001b[0m                                 Traceback (most recent call last)",
      "Cell \u001b[1;32mIn[102], line 1\u001b[0m\n\u001b[1;32m----> 1\u001b[0m dog \u001b[38;5;241m=\u001b[39m Animal(\u001b[38;5;124m'\u001b[39m\u001b[38;5;124mdog\u001b[39m\u001b[38;5;124m'\u001b[39m, \u001b[38;5;124m'\u001b[39m\u001b[38;5;124mmammal\u001b[39m\u001b[38;5;124m'\u001b[39m)\n",
      "\u001b[1;31mTypeError\u001b[0m: Animal.__init__() missing 1 required positional argument: 'age'"
     ]
    }
   ],
   "source": [
    "dog = Animal('dog', 'mammal')"
   ]
  },
  {
   "cell_type": "code",
   "execution_count": 103,
   "id": "716d9c46",
   "metadata": {},
   "outputs": [],
   "source": [
    "dog = Animal('dog', 'mammal', 15)"
   ]
  },
  {
   "cell_type": "code",
   "execution_count": 104,
   "id": "84e872bb",
   "metadata": {},
   "outputs": [
    {
     "data": {
      "text/plain": [
       "15"
      ]
     },
     "execution_count": 104,
     "metadata": {},
     "output_type": "execute_result"
    }
   ],
   "source": [
    "dog.age"
   ]
  },
  {
   "cell_type": "code",
   "execution_count": 106,
   "id": "2c8de0db",
   "metadata": {},
   "outputs": [],
   "source": [
    "# here the first constructor is overriden as soon as we \n",
    "# initialize the second constructor\n",
    "# as we keep on writing multiple inits, it will get overriden"
   ]
  },
  {
   "cell_type": "code",
   "execution_count": 108,
   "id": "4abf16dc",
   "metadata": {},
   "outputs": [],
   "source": [
    "# a simple hack to fix this issue\n",
    "# by using positional arguments"
   ]
  },
  {
   "cell_type": "code",
   "execution_count": 126,
   "id": "d4d24e74",
   "metadata": {},
   "outputs": [],
   "source": [
    "class Animal:\n",
    "    def __init__(self, *args):\n",
    "        if len(args) == 1:\n",
    "            self.name = args[0]\n",
    "        elif len(args) == 2:\n",
    "            self.name = args[0]\n",
    "            self.species = args[1]\n",
    "        elif len(args) == 3:\n",
    "            self.name = args[0]\n",
    "            self.species = args[1]\n",
    "            self.age = args[2]\n",
    "            \n",
    "    def make_sound(self, sound):\n",
    "        return 'The animal is {} ans says {} '.format(self.name, sound)"
   ]
  },
  {
   "cell_type": "code",
   "execution_count": 127,
   "id": "b94671b4",
   "metadata": {},
   "outputs": [],
   "source": [
    "dog = Animal('dog','mammal',15)"
   ]
  },
  {
   "cell_type": "code",
   "execution_count": 128,
   "id": "7459fb14",
   "metadata": {},
   "outputs": [
    {
     "data": {
      "text/plain": [
       "15"
      ]
     },
     "execution_count": 128,
     "metadata": {},
     "output_type": "execute_result"
    }
   ],
   "source": [
    "dog.age"
   ]
  },
  {
   "cell_type": "code",
   "execution_count": 129,
   "id": "4720fec5",
   "metadata": {},
   "outputs": [
    {
     "data": {
      "text/plain": [
       "'mammal'"
      ]
     },
     "execution_count": 129,
     "metadata": {},
     "output_type": "execute_result"
    }
   ],
   "source": [
    "dog.species"
   ]
  },
  {
   "cell_type": "code",
   "execution_count": 130,
   "id": "2ca4e7e7",
   "metadata": {},
   "outputs": [
    {
     "data": {
      "text/plain": [
       "'dog'"
      ]
     },
     "execution_count": 130,
     "metadata": {},
     "output_type": "execute_result"
    }
   ],
   "source": [
    "dog.name"
   ]
  },
  {
   "cell_type": "code",
   "execution_count": 131,
   "id": "6137c06a",
   "metadata": {},
   "outputs": [
    {
     "data": {
      "text/plain": [
       "'The animal is dog ans says woof woof '"
      ]
     },
     "execution_count": 131,
     "metadata": {},
     "output_type": "execute_result"
    }
   ],
   "source": [
    "dog.make_sound('woof woof') "
   ]
  },
  {
   "cell_type": "markdown",
   "id": "3bddbfb0",
   "metadata": {},
   "source": [
    "### Numba Library"
   ]
  },
  {
   "cell_type": "code",
   "execution_count": 133,
   "id": "d1f565f9",
   "metadata": {},
   "outputs": [
    {
     "data": {
      "text/plain": [
       "'Pyhton is an interpreted language and no conversion is there\\nit is in languages like c++ and java. \\nit is slow compared to java and c++\\nwe can make our python code convertible to machine level code\\nusing library called numba\\nNumba is a just in time compiler for python'"
      ]
     },
     "execution_count": 133,
     "metadata": {},
     "output_type": "execute_result"
    }
   ],
   "source": [
    "'''Pyhton is an interpreted language and no conversion is there\n",
    "it is in languages like c++ and java. \n",
    "it is slow compared to java and c++\n",
    "we can make our python code convertible to machine level code\n",
    "using library called numba\n",
    "Numba is a just in time compiler for python'''"
   ]
  },
  {
   "cell_type": "markdown",
   "id": "4276d903",
   "metadata": {},
   "source": [
    "Numba is just in time compiler for python that works best on the code that uses NumPy arrays and functions, and loops. The most comman way to use Numba is through its collection of decorators that can be applied to your functions to instruct Numba to compile them. When a call is made to Numba decorated function it is compiled to machine code \"just in time\" for execution and all or part of your code can subsequently run at native machine code speed."
   ]
  },
  {
   "cell_type": "code",
   "execution_count": 134,
   "id": "6464d92a",
   "metadata": {},
   "outputs": [
    {
     "name": "stdout",
     "output_type": "stream",
     "text": [
      "Requirement already satisfied: Numba in c:\\users\\anjal\\anaconda3\\lib\\site-packages (0.57.1)\n",
      "Requirement already satisfied: llvmlite<0.41,>=0.40.0dev0 in c:\\users\\anjal\\anaconda3\\lib\\site-packages (from Numba) (0.40.0)\n",
      "Requirement already satisfied: numpy<1.25,>=1.21 in c:\\users\\anjal\\anaconda3\\lib\\site-packages (from Numba) (1.24.3)\n",
      "Note: you may need to restart the kernel to use updated packages.\n"
     ]
    }
   ],
   "source": [
    "pip install Numba"
   ]
  },
  {
   "cell_type": "code",
   "execution_count": 139,
   "id": "88d4e8f8",
   "metadata": {},
   "outputs": [
    {
     "name": "stdout",
     "output_type": "stream",
     "text": [
      "Elapsed (with compilation) = 0.414947509765625\n",
      "Elapsed (after compilation) = 0.0\n"
     ]
    }
   ],
   "source": [
    "from numba import jit\n",
    "import numpy as np\n",
    "import time\n",
    "\n",
    "x = np.arange(100).reshape(10,10)\n",
    "\n",
    "@jit(nopython = True)\n",
    "def go_fast(a): # Function is compiled and runs in machine code\n",
    "    trace = 0.0\n",
    "    for i in range(a.shape[0]):\n",
    "        trace += np.tanh(a[i,i])\n",
    "    return a + trace\n",
    "\n",
    "# DO NOT REPORT THIS.. COMPILATION TIME IS INCLUDED IN EXECITION TIME!\n",
    "start = time.time()\n",
    "go_fast(x)\n",
    "end = time.time()\n",
    "print('Elapsed (with compilation) = %s' % (end - start))\n",
    "\n",
    "#NOW THE FUNCTION IS COMPILED, RE-TIME IT EXECUTING FROM CACHE\n",
    "start = time.time()\n",
    "go_fast(x)\n",
    "end = time.time()\n",
    "print('Elapsed (after compilation) = %s' % (end - start))\n",
    "\n"
   ]
  },
  {
   "cell_type": "code",
   "execution_count": 140,
   "id": "21dd8fa1",
   "metadata": {},
   "outputs": [],
   "source": [
    "# not work in dataframes or other kind of data structures"
   ]
  },
  {
   "cell_type": "code",
   "execution_count": null,
   "id": "f6bc94c5",
   "metadata": {},
   "outputs": [],
   "source": []
  }
 ],
 "metadata": {
  "kernelspec": {
   "display_name": "Python 3 (ipykernel)",
   "language": "python",
   "name": "python3"
  },
  "language_info": {
   "codemirror_mode": {
    "name": "ipython",
    "version": 3
   },
   "file_extension": ".py",
   "mimetype": "text/x-python",
   "name": "python",
   "nbconvert_exporter": "python",
   "pygments_lexer": "ipython3",
   "version": "3.11.5"
  }
 },
 "nbformat": 4,
 "nbformat_minor": 5
}
