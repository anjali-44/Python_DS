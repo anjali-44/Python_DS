{
 "cells": [
  {
   "cell_type": "code",
   "execution_count": null,
   "id": "f0066b03",
   "metadata": {},
   "outputs": [],
   "source": []
  },
  {
   "cell_type": "code",
   "execution_count": 1,
   "id": "b577d455",
   "metadata": {},
   "outputs": [],
   "source": [
    "## outliers"
   ]
  },
  {
   "cell_type": "code",
   "execution_count": 2,
   "id": "7e24dee5",
   "metadata": {},
   "outputs": [],
   "source": [
    "import numpy as np\n",
    "import matplotlib.pyplot as plt\n",
    "%matplotlib inline"
   ]
  },
  {
   "cell_type": "code",
   "execution_count": 3,
   "id": "6d12e656",
   "metadata": {},
   "outputs": [],
   "source": [
    "## define our dataset"
   ]
  },
  {
   "cell_type": "code",
   "execution_count": null,
   "id": "698cb5ca",
   "metadata": {},
   "outputs": [],
   "source": []
  }
 ],
 "metadata": {
  "kernelspec": {
   "display_name": "Python 3 (ipykernel)",
   "language": "python",
   "name": "python3"
  },
  "language_info": {
   "codemirror_mode": {
    "name": "ipython",
    "version": 3
   },
   "file_extension": ".py",
   "mimetype": "text/x-python",
   "name": "python",
   "nbconvert_exporter": "python",
   "pygments_lexer": "ipython3",
   "version": "3.11.5"
  }
 },
 "nbformat": 4,
 "nbformat_minor": 5
}
