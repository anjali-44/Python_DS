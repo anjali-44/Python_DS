{
 "cells": [
  {
   "cell_type": "markdown",
   "id": "71cd94f4",
   "metadata": {},
   "source": [
    "FUNCTIONS"
   ]
  },
  {
   "cell_type": "code",
   "execution_count": 1,
   "id": "58e676df",
   "metadata": {},
   "outputs": [],
   "source": [
    "def calculate_area(base, height):\n",
    "    area = (1/2)*base*height\n",
    "    return area"
   ]
  },
  {
   "cell_type": "code",
   "execution_count": 2,
   "id": "eabf2b80",
   "metadata": {},
   "outputs": [
    {
     "data": {
      "text/plain": [
       "15.0"
      ]
     },
     "execution_count": 2,
     "metadata": {},
     "output_type": "execute_result"
    }
   ],
   "source": [
    "calculate_area(5, 6)"
   ]
  },
  {
   "cell_type": "code",
   "execution_count": 6,
   "id": "56a1072d",
   "metadata": {},
   "outputs": [],
   "source": [
    "def calculate_area(base, height, shape):\n",
    "\n",
    "    if shape == 'rectangle':\n",
    "        area = base*height\n",
    "    else:\n",
    "        area = (1/2)*base*height\n",
    "        \n",
    "    return area"
   ]
  },
  {
   "cell_type": "code",
   "execution_count": 7,
   "id": "13b9ecd9",
   "metadata": {},
   "outputs": [
    {
     "data": {
      "text/plain": [
       "30"
      ]
     },
     "execution_count": 7,
     "metadata": {},
     "output_type": "execute_result"
    }
   ],
   "source": [
    "calculate_area(5,6,'rectangle')"
   ]
  },
  {
   "cell_type": "code",
   "execution_count": 8,
   "id": "68bb14ae",
   "metadata": {},
   "outputs": [],
   "source": [
    "def calculate_area(base, height, shape='triangle'):\n",
    "\n",
    "    if shape == 'rectangle':\n",
    "        area = base*height\n",
    "    else:\n",
    "        area = (1/2)*base*height\n",
    "        \n",
    "    return area"
   ]
  },
  {
   "cell_type": "code",
   "execution_count": 9,
   "id": "70f785ed",
   "metadata": {},
   "outputs": [
    {
     "data": {
      "text/plain": [
       "15.0"
      ]
     },
     "execution_count": 9,
     "metadata": {},
     "output_type": "execute_result"
    }
   ],
   "source": [
    "calculate_area(5,6)"
   ]
  },
  {
   "cell_type": "code",
   "execution_count": 10,
   "id": "75ed16e4",
   "metadata": {},
   "outputs": [
    {
     "data": {
      "text/plain": [
       "30"
      ]
     },
     "execution_count": 10,
     "metadata": {},
     "output_type": "execute_result"
    }
   ],
   "source": [
    "calculate_area(5,6,'rectangle')"
   ]
  },
  {
   "cell_type": "code",
   "execution_count": 11,
   "id": "8423d7a5",
   "metadata": {},
   "outputs": [],
   "source": [
    "def print_pattern(n):\n",
    "    for row in range(n):\n",
    "        for col in range(n):\n",
    "            print"
   ]
  },
  {
   "cell_type": "code",
   "execution_count": null,
   "id": "fc0be61a",
   "metadata": {},
   "outputs": [],
   "source": []
  },
  {
   "cell_type": "markdown",
   "id": "1b3c2d83",
   "metadata": {},
   "source": [
    "Python Dict and Tuples"
   ]
  },
  {
   "cell_type": "code",
   "execution_count": 2,
   "id": "4445e081",
   "metadata": {},
   "outputs": [],
   "source": [
    "my_dict = {'China' : 143,\n",
    "          'India' : 136,\n",
    "          'USA' : 32,\n",
    "          'Pakistan' : 21}"
   ]
  },
  {
   "cell_type": "code",
   "execution_count": null,
   "id": "a4da4e4b",
   "metadata": {},
   "outputs": [],
   "source": [
    "usr_input = input('Enter your input : ')\n",
    "if usr_input == 'print':\n",
    "    for x in my_dict:\n",
    "        print(x, '==>', my_dict[x])\n",
    "        \n",
    "if usr_input == 'add':\n",
    "    country = input('Enter the country : ')\n",
    "    if country == "
   ]
  },
  {
   "cell_type": "code",
   "execution_count": 4,
   "id": "0c0b8268",
   "metadata": {},
   "outputs": [
    {
     "data": {
      "text/plain": [
       "{'China': 143, 'India': 136, 'USA': 32, 'Pakistan': 21, 'Any': '126'}"
      ]
     },
     "execution_count": 4,
     "metadata": {},
     "output_type": "execute_result"
    }
   ],
   "source": [
    "my_dict"
   ]
  },
  {
   "cell_type": "code",
   "execution_count": 15,
   "id": "c1e75922",
   "metadata": {},
   "outputs": [
    {
     "data": {
      "text/plain": [
       "<function dict.values>"
      ]
     },
     "execution_count": 15,
     "metadata": {},
     "output_type": "execute_result"
    }
   ],
   "source": [
    "my_dict.values"
   ]
  },
  {
   "cell_type": "code",
   "execution_count": 16,
   "id": "1ac07c37",
   "metadata": {},
   "outputs": [
    {
     "name": "stdout",
     "output_type": "stream",
     "text": [
      "China\n",
      "India\n",
      "USA\n",
      "Pakistan\n"
     ]
    }
   ],
   "source": [
    "for x in my_dict:\n",
    "    print(x)"
   ]
  },
  {
   "cell_type": "code",
   "execution_count": 7,
   "id": "34961ae3",
   "metadata": {},
   "outputs": [],
   "source": [
    "country = 'US'\n",
    "population = 100\n",
    "my_dict[country] = population"
   ]
  },
  {
   "cell_type": "code",
   "execution_count": 8,
   "id": "8c80c581",
   "metadata": {},
   "outputs": [
    {
     "data": {
      "text/plain": [
       "{'China': 143, 'India': 136, 'USA': 32, 'Pakistan': 21, None: None, 'US': 100}"
      ]
     },
     "execution_count": 8,
     "metadata": {},
     "output_type": "execute_result"
    }
   ],
   "source": [
    "my_dict"
   ]
  },
  {
   "cell_type": "code",
   "execution_count": 6,
   "id": "6ba052f9",
   "metadata": {},
   "outputs": [
    {
     "name": "stdout",
     "output_type": "stream",
     "text": [
      "Enter the country to add : India\n",
      "Country already exist : \n"
     ]
    }
   ],
   "source": [
    "\n",
    "\n",
    "def add():\n",
    "    \n",
    "    country = input('Enter the country to add : ')\n",
    "\n",
    "    if country in my_dict:\n",
    "        print('Country already exist : ')\n",
    "        return\n",
    "    print('dont already exist.')\n",
    "    popl = input(f'Enter population {country} : ')\n",
    "    my_dict[country] = popl\n",
    "    print('Country added ')\n",
    "        \n",
    "add()\n",
    "\n"
   ]
  },
  {
   "cell_type": "code",
   "execution_count": 33,
   "id": "dc5747ed",
   "metadata": {},
   "outputs": [],
   "source": [
    "my_dict = {'China' : 143,\n",
    "          'India' : 136,\n",
    "          'USA' : 32,\n",
    "          'Pakistan' : 21}"
   ]
  },
  {
   "cell_type": "code",
   "execution_count": 21,
   "id": "8e7e67e0",
   "metadata": {},
   "outputs": [
    {
     "data": {
      "text/plain": [
       "{'China': 143, 'India': 136, 'USA': 32, 'Pakistan': 21, 'Australia': '67'}"
      ]
     },
     "execution_count": 21,
     "metadata": {},
     "output_type": "execute_result"
    }
   ],
   "source": [
    "my_dict"
   ]
  },
  {
   "cell_type": "code",
   "execution_count": 25,
   "id": "7695393b",
   "metadata": {},
   "outputs": [],
   "source": [
    "del my_dict['India']"
   ]
  },
  {
   "cell_type": "code",
   "execution_count": 26,
   "id": "2e496240",
   "metadata": {},
   "outputs": [
    {
     "data": {
      "text/plain": [
       "{'USA': 32, 'Pakistan': 21, 'Australia': '67'}"
      ]
     },
     "execution_count": 26,
     "metadata": {},
     "output_type": "execute_result"
    }
   ],
   "source": [
    "my_dict"
   ]
  },
  {
   "cell_type": "code",
   "execution_count": null,
   "id": "03b419d5",
   "metadata": {},
   "outputs": [],
   "source": []
  },
  {
   "cell_type": "code",
   "execution_count": 45,
   "id": "c1adec9c",
   "metadata": {},
   "outputs": [
    {
     "name": "stdout",
     "output_type": "stream",
     "text": [
      "Enter your input : print\n",
      "India ==> 136\n",
      "USA ==> 32\n",
      "Pakistan ==> 21\n"
     ]
    }
   ],
   "source": [
    "\n",
    "def print_all():\n",
    "    for x in my_dict:\n",
    "        print(x, '==>', my_dict[x])\n",
    "        \n",
    "def add():\n",
    "    \n",
    "    country = input('Enter the country to add : ')\n",
    "    \n",
    "    if country in my_dict:\n",
    "        print('Country already exist : ')\n",
    "        return\n",
    "    print('dont already exist.')\n",
    "    popl = input(f'Enter population {country} : ')\n",
    "    my_dict[country] = popl\n",
    "    print('Country added ')\n",
    "        \n",
    "def remove():\n",
    "    remove = input('Enter the country to remove : ')\n",
    "    \n",
    "    del my_dict[remove]\n",
    "    print('Country successfully removed. ')\n",
    "    \n",
    "def query():\n",
    "    query = input('About which Country you want to query : ')\n",
    "  \n",
    "    if query in my_dict:\n",
    "        print (query, '==>', my_dict[query])\n",
    "    else:\n",
    "        print('No such country exists. ')\n",
    "        \n",
    "def main():\n",
    "    op = input('Enter your input : ')\n",
    "    if op == 'add':\n",
    "        add()\n",
    "    elif op == 'print':\n",
    "        print_all()\n",
    "    elif op == 'remove':\n",
    "        remove()\n",
    "    elif op == 'query':\n",
    "        query()\n",
    "        \n",
    "if __name__ == '__main__':\n",
    "    main()       "
   ]
  },
  {
   "cell_type": "code",
   "execution_count": 43,
   "id": "9ce7cf9c",
   "metadata": {},
   "outputs": [
    {
     "data": {
      "text/plain": [
       "{'India': 136, 'USA': 32, 'Pakistan': 21}"
      ]
     },
     "execution_count": 43,
     "metadata": {},
     "output_type": "execute_result"
    }
   ],
   "source": [
    "my_dict"
   ]
  },
  {
   "cell_type": "code",
   "execution_count": 49,
   "id": "ae62fc87",
   "metadata": {},
   "outputs": [
    {
     "data": {
      "text/plain": [
       "2.0"
      ]
     },
     "execution_count": 49,
     "metadata": {},
     "output_type": "execute_result"
    }
   ],
   "source": [
    "lst = [1,2,3]\n",
    "avg = sum(lst)/len(lst)\n",
    "avg\n"
   ]
  },
  {
   "cell_type": "code",
   "execution_count": 71,
   "id": "e797e992",
   "metadata": {},
   "outputs": [],
   "source": [
    "my_stocks = {'info' : [600,630,620],\n",
    "            'ril' : [1430,1490,1567],\n",
    "            'mtl' : [234,180,160]}"
   ]
  },
  {
   "cell_type": "code",
   "execution_count": 67,
   "id": "0ec5991c",
   "metadata": {},
   "outputs": [],
   "source": [
    "def print_stocks():\n",
    "    for x,y in my_stocks.items():\n",
    "        print(x ,'==>', y ,'==>', 'avg: ', round(sum(y)/len(y), 2))\n",
    "        \n",
    "def add():\n",
    "    stock = input('Enter the stock you want to add : ')\n",
    "    price = float(input(f'Enter the price of {stock} : '))\n",
    "    \n",
    "    if stock in my_stocks:\n",
    "        my_stocks[stock].append(price)\n",
    "        print('Stock added')"
   ]
  },
  {
   "cell_type": "code",
   "execution_count": 69,
   "id": "d65088af",
   "metadata": {},
   "outputs": [
    {
     "ename": "TypeError",
     "evalue": "unsupported operand type(s) for +: 'int' and 'str'",
     "output_type": "error",
     "traceback": [
      "\u001b[1;31m---------------------------------------------------------------------------\u001b[0m",
      "\u001b[1;31mTypeError\u001b[0m                                 Traceback (most recent call last)",
      "Cell \u001b[1;32mIn[69], line 1\u001b[0m\n\u001b[1;32m----> 1\u001b[0m print_stocks()\n",
      "Cell \u001b[1;32mIn[67], line 3\u001b[0m, in \u001b[0;36mprint_stocks\u001b[1;34m()\u001b[0m\n\u001b[0;32m      1\u001b[0m \u001b[38;5;28;01mdef\u001b[39;00m \u001b[38;5;21mprint_stocks\u001b[39m():\n\u001b[0;32m      2\u001b[0m     \u001b[38;5;28;01mfor\u001b[39;00m x,y \u001b[38;5;129;01min\u001b[39;00m my_stocks\u001b[38;5;241m.\u001b[39mitems():\n\u001b[1;32m----> 3\u001b[0m         \u001b[38;5;28mprint\u001b[39m(x ,\u001b[38;5;124m'\u001b[39m\u001b[38;5;124m==>\u001b[39m\u001b[38;5;124m'\u001b[39m, y ,\u001b[38;5;124m'\u001b[39m\u001b[38;5;124m==>\u001b[39m\u001b[38;5;124m'\u001b[39m, \u001b[38;5;124m'\u001b[39m\u001b[38;5;124mavg: \u001b[39m\u001b[38;5;124m'\u001b[39m, \u001b[38;5;28mround\u001b[39m(\u001b[38;5;28msum\u001b[39m(y)\u001b[38;5;241m/\u001b[39m\u001b[38;5;28mlen\u001b[39m(y), \u001b[38;5;241m2\u001b[39m))\n",
      "\u001b[1;31mTypeError\u001b[0m: unsupported operand type(s) for +: 'int' and 'str'"
     ]
    }
   ],
   "source": [
    "print_stocks()"
   ]
  },
  {
   "cell_type": "code",
   "execution_count": 70,
   "id": "c5e197d3",
   "metadata": {},
   "outputs": [
    {
     "name": "stdout",
     "output_type": "stream",
     "text": [
      "Enter the stock you want to add : qwr\n",
      "Enter the price of qwr : er\n"
     ]
    },
    {
     "ename": "ValueError",
     "evalue": "could not convert string to float: 'er'",
     "output_type": "error",
     "traceback": [
      "\u001b[1;31m---------------------------------------------------------------------------\u001b[0m",
      "\u001b[1;31mValueError\u001b[0m                                Traceback (most recent call last)",
      "Cell \u001b[1;32mIn[70], line 1\u001b[0m\n\u001b[1;32m----> 1\u001b[0m add()\n",
      "Cell \u001b[1;32mIn[67], line 7\u001b[0m, in \u001b[0;36madd\u001b[1;34m()\u001b[0m\n\u001b[0;32m      5\u001b[0m \u001b[38;5;28;01mdef\u001b[39;00m \u001b[38;5;21madd\u001b[39m():\n\u001b[0;32m      6\u001b[0m     stock \u001b[38;5;241m=\u001b[39m \u001b[38;5;28minput\u001b[39m(\u001b[38;5;124m'\u001b[39m\u001b[38;5;124mEnter the stock you want to add : \u001b[39m\u001b[38;5;124m'\u001b[39m)\n\u001b[1;32m----> 7\u001b[0m     price \u001b[38;5;241m=\u001b[39m \u001b[38;5;28mfloat\u001b[39m(\u001b[38;5;28minput\u001b[39m(\u001b[38;5;124mf\u001b[39m\u001b[38;5;124m'\u001b[39m\u001b[38;5;124mEnter the price of \u001b[39m\u001b[38;5;132;01m{\u001b[39;00mstock\u001b[38;5;132;01m}\u001b[39;00m\u001b[38;5;124m : \u001b[39m\u001b[38;5;124m'\u001b[39m))\n\u001b[0;32m      9\u001b[0m     \u001b[38;5;28;01mif\u001b[39;00m stock \u001b[38;5;129;01min\u001b[39;00m my_stocks:\n\u001b[0;32m     10\u001b[0m         my_stocks[stock]\u001b[38;5;241m.\u001b[39mappend(price)\n",
      "\u001b[1;31mValueError\u001b[0m: could not convert string to float: 'er'"
     ]
    }
   ],
   "source": [
    "add()"
   ]
  },
  {
   "cell_type": "code",
   "execution_count": 74,
   "id": "bca8b1e9",
   "metadata": {},
   "outputs": [
    {
     "name": "stdout",
     "output_type": "stream",
     "text": [
      "info ==> [600, 630, 620, 640.0] ==> avg: 622.5\n",
      "ril ==> [1430, 1490, 1567] ==> avg: 1495.67\n",
      "mtl ==> [234, 180, 160] ==> avg: 191.33\n",
      "Enter the stock you want to add: gu\n",
      "Enter the price of gu: 987\n",
      "Stock added\n",
      "info ==> [600, 630, 620, 640.0] ==> avg: 622.5\n",
      "ril ==> [1430, 1490, 1567] ==> avg: 1495.67\n",
      "mtl ==> [234, 180, 160] ==> avg: 191.33\n",
      "gu ==> [987.0] ==> avg: 987.0\n"
     ]
    }
   ],
   "source": [
    "def print_stocks():\n",
    "    for stock, prices in my_stocks.items():\n",
    "        average_price = round(sum(prices) / len(prices), 2)\n",
    "        print(f\"{stock} ==> {prices} ==> avg: {average_price}\")\n",
    "\n",
    "def add():\n",
    "    stock = input('Enter the stock you want to add: ')\n",
    "    price = float(input(f'Enter the price of {stock}: '))  # Convert input to float\n",
    "    \n",
    "    if stock in my_stocks:\n",
    "        my_stocks[stock].append(price)\n",
    "    else:\n",
    "        my_stocks[stock] = [price]  # Initialize the list with the first price\n",
    "    print('Stock added')\n",
    "\n",
    "# Example usage\n",
    "print_stocks()  # Print the initial stock data with average prices\n",
    "add()  # Add a new price to an existing or new stock\n",
    "print_stocks()  # Print the updated stock data with average prices\n"
   ]
  },
  {
   "cell_type": "code",
   "execution_count": 89,
   "id": "a63774cf",
   "metadata": {},
   "outputs": [],
   "source": [
    "my_stocks = {'info' : [600,630,620],\n",
    "            'ril' : [1430,1490,1567],\n",
    "            'mtl' : [234,180,160]}"
   ]
  },
  {
   "cell_type": "code",
   "execution_count": 90,
   "id": "634d24b6",
   "metadata": {},
   "outputs": [
    {
     "name": "stdout",
     "output_type": "stream",
     "text": [
      "info ==> [600, 630, 620] ==> avg: 616.67\n",
      "ril ==> [1430, 1490, 1567] ==> avg: 1495.67\n",
      "mtl ==> [234, 180, 160] ==> avg: 191.33\n",
      "\n",
      "Enter the stock you want to add : rely\n",
      "Enter the price of the stock rely : 540\n",
      "Stock added\n",
      "\n",
      "info ==> [600, 630, 620] ==> avg: 616.67\n",
      "ril ==> [1430, 1490, 1567] ==> avg: 1495.67\n",
      "mtl ==> [234, 180, 160] ==> avg: 191.33\n",
      "rely ==> [540.0] ==> avg: 540.0\n"
     ]
    }
   ],
   "source": [
    "def print_stocks():\n",
    "    for x,y in my_stocks.items():\n",
    "        avg = round(sum(y)/len(y), 2)\n",
    "        print(f'{x} ==> {y} ==> avg: {avg}')\n",
    "        \n",
    "def add():\n",
    "    stock = input('Enter the stock you want to add : ')\n",
    "    price = float(input(f'Enter the price of the stock {stock} : '))\n",
    "    \n",
    "    if stock in my_stocks:\n",
    "        my_stocks[stock].append(price)\n",
    "        print('Stock appended.')\n",
    "    else:\n",
    "        my_stocks[stock] = [price]\n",
    "        print('Stock added')\n",
    "        \n",
    "print_stocks()\n",
    "print()\n",
    "add()\n",
    "print()\n",
    "print_stocks()"
   ]
  },
  {
   "cell_type": "code",
   "execution_count": 92,
   "id": "e17e6508",
   "metadata": {},
   "outputs": [],
   "source": [
    "import math"
   ]
  },
  {
   "cell_type": "code",
   "execution_count": 104,
   "id": "575924d9",
   "metadata": {},
   "outputs": [],
   "source": [
    "def calculate_area(radius):\n",
    "    area = round(math.pi*radius*radius, 2)\n",
    "    circumference = round(2*math.pi*radius, 2)\n",
    "    diameter = round(2*radius, 2)\n",
    "    \n",
    "    return area,circumference,diameter"
   ]
  },
  {
   "cell_type": "code",
   "execution_count": 105,
   "id": "c16989a4",
   "metadata": {},
   "outputs": [
    {
     "data": {
      "text/plain": [
       "(50.27, 25.13, 8)"
      ]
     },
     "execution_count": 105,
     "metadata": {},
     "output_type": "execute_result"
    }
   ],
   "source": [
    "calculate_area(4)"
   ]
  },
  {
   "cell_type": "code",
   "execution_count": 106,
   "id": "405835e9",
   "metadata": {},
   "outputs": [],
   "source": [
    "def main():\n",
    "    r = float(input('Enter radius : '))\n",
    "    area, c, d = calculate_area(r)\n",
    "    print(f'area is {area}, circumference is {c}, diameter is {d}')"
   ]
  },
  {
   "cell_type": "code",
   "execution_count": 107,
   "id": "cce2fe4d",
   "metadata": {},
   "outputs": [
    {
     "name": "stdout",
     "output_type": "stream",
     "text": [
      "Enter radius : 4.5\n",
      "area is 63.62, circumference is 28.27, diameter is 9.0\n"
     ]
    }
   ],
   "source": [
    "if __name__ == \"__main__\":\n",
    "    main()"
   ]
  },
  {
   "cell_type": "code",
   "execution_count": null,
   "id": "b0312a4e",
   "metadata": {},
   "outputs": [],
   "source": []
  },
  {
   "cell_type": "markdown",
   "id": "928a67a0",
   "metadata": {},
   "source": [
    "Python Read Write File"
   ]
  },
  {
   "cell_type": "code",
   "execution_count": 109,
   "id": "d9e7baab",
   "metadata": {},
   "outputs": [
    {
     "name": "stdout",
     "output_type": "stream",
     "text": [
      "{'Two': 2, 'roads': 2, 'diverged': 2, 'in': 3, 'a': 3, 'yellow': 1, 'wood,\\n': 1, 'And': 6, 'sorry': 1, 'I': 8, 'could': 1, 'not': 1, 'travel': 1, 'both\\n': 1, 'be': 2, 'one': 3, 'traveler,': 1, 'long': 1, 'stood\\n': 1, 'looked': 1, 'down': 1, 'as': 5, 'far': 1, 'could\\n': 1, 'To': 1, 'where': 1, 'it': 2, 'bent': 1, 'the': 8, 'undergrowth;\\n': 1, '\\n': 3, 'Then': 1, 'took': 2, 'other,': 1, 'just': 1, 'fair,\\n': 1, 'having': 1, 'perhaps': 1, 'better': 1, 'claim,\\n': 1, 'Because': 1, 'was': 1, 'grassy': 1, 'and': 3, 'wanted': 1, 'wear;\\n': 1, 'Though': 1, 'for': 2, 'that': 3, 'passing': 1, 'there\\n': 1, 'Had': 1, 'worn': 1, 'them': 1, 'really': 1, 'about': 1, 'same,\\n': 1, 'both': 1, 'morning': 1, 'equally': 1, 'lay\\n': 1, 'In': 1, 'leaves': 1, 'no': 1, 'step': 1, 'had': 1, 'trodden': 1, 'black.\\n': 1, 'Oh,': 1, 'kept': 1, 'first': 1, 'another': 1, 'day!\\n': 1, 'Yet': 1, 'knowing': 1, 'how': 1, 'way': 1, 'leads': 1, 'on': 1, 'to': 1, 'way,\\n': 1, 'doubted': 1, 'if': 1, 'should': 1, 'ever': 1, 'come': 1, 'back.\\n': 1, 'shall': 1, 'telling': 1, 'this': 1, 'with': 1, 'sigh\\n': 1, 'Somewhere': 1, 'ages': 2, 'hence:\\n': 1, 'wood,': 1, 'Iâ€”\\n': 1, 'less': 1, 'traveled': 1, 'by,\\n': 1, 'has': 1, 'made': 1, 'all': 1, 'difference.': 1}\n",
      "Max occurances of any word is: 8\n",
      "Words with max occurances are: \n",
      "I\n",
      "the\n"
     ]
    }
   ],
   "source": [
    "word_stats={}\n",
    "\n",
    "with open(\"poem.txt\",\"r\") as f:\n",
    "    for line in f:\n",
    "      words=line.split(' ')\n",
    "      for word in words:\n",
    "        if word in word_stats:\n",
    "          word_stats[word]+=1\n",
    "        else:\n",
    "          word_stats[word] = 1\n",
    "\n",
    "print(word_stats)\n",
    "\n",
    "word_occurances = list(word_stats.values())\n",
    "max_count = max(word_occurances)\n",
    "print(\"Max occurances of any word is:\",max_count)\n",
    "\n",
    "print(\"Words with max occurances are: \")\n",
    "for word, count in word_stats.items():\n",
    "    if count==max_count:\n",
    "        print(word)"
   ]
  },
  {
   "cell_type": "code",
   "execution_count": null,
   "id": "8e4f2118",
   "metadata": {},
   "outputs": [],
   "source": []
  },
  {
   "cell_type": "markdown",
   "id": "ebfe0f71",
   "metadata": {},
   "source": [
    "Sample class Employee with attributes id and name defined"
   ]
  },
  {
   "cell_type": "code",
   "execution_count": 110,
   "id": "1036cdbb",
   "metadata": {},
   "outputs": [],
   "source": [
    "class Employee:\n",
    "    def __init__(self, id, name):\n",
    "        self.id = id\n",
    "        self.name = name\n",
    "    \n",
    "    def display(self):\n",
    "        print(f'ID : {self.id} \\nName: {self.name}')"
   ]
  },
  {
   "cell_type": "code",
   "execution_count": 111,
   "id": "15b18141",
   "metadata": {},
   "outputs": [],
   "source": [
    "# creating a emp instance of Employee class\n",
    "\n",
    "emp = Employee(1, 'Anjali')"
   ]
  },
  {
   "cell_type": "code",
   "execution_count": 113,
   "id": "46247fc9",
   "metadata": {},
   "outputs": [
    {
     "name": "stdout",
     "output_type": "stream",
     "text": [
      "ID : 1 \n",
      "Name: Anjali\n"
     ]
    }
   ],
   "source": [
    "emp.display()"
   ]
  },
  {
   "cell_type": "code",
   "execution_count": 114,
   "id": "d615f647",
   "metadata": {},
   "outputs": [],
   "source": [
    "# Deleting the property of the object\n",
    "\n",
    "del emp.id"
   ]
  },
  {
   "cell_type": "code",
   "execution_count": 116,
   "id": "fa525121",
   "metadata": {},
   "outputs": [],
   "source": [
    "# deleting the entire object\n",
    "\n",
    "del emp"
   ]
  },
  {
   "cell_type": "code",
   "execution_count": 118,
   "id": "c0c0c893",
   "metadata": {},
   "outputs": [
    {
     "name": "stdout",
     "output_type": "stream",
     "text": [
      "emp is not defined .\n"
     ]
    }
   ],
   "source": [
    "try:\n",
    "    emp.display()\n",
    "except NameError:\n",
    "    print('emp is not defined .')"
   ]
  },
  {
   "cell_type": "code",
   "execution_count": null,
   "id": "9b65c714",
   "metadata": {},
   "outputs": [],
   "source": []
  },
  {
   "cell_type": "markdown",
   "id": "5de8829f",
   "metadata": {},
   "source": [
    "Inheritence"
   ]
  },
  {
   "cell_type": "code",
   "execution_count": 119,
   "id": "0ec5f404",
   "metadata": {},
   "outputs": [],
   "source": [
    "class Animal:\n",
    "    def __init__(self, habitat):\n",
    "        self.habitat = habitat\n",
    "        \n",
    "    def print_habitat(self):\n",
    "        print(self.habitat)\n",
    "        \n",
    "    def sound(self):\n",
    "        print('Animal sound.')"
   ]
  },
  {
   "cell_type": "code",
   "execution_count": 120,
   "id": "d7b4f8ee",
   "metadata": {},
   "outputs": [],
   "source": [
    "class Dog(Animal):\n",
    "    def __init__(self):\n",
    "        super().__init__(\"Kennel\")\n",
    "        \n",
    "    def sound(self):\n",
    "        print(\"woof woof! \")"
   ]
  },
  {
   "cell_type": "code",
   "execution_count": 121,
   "id": "61ba7f90",
   "metadata": {},
   "outputs": [],
   "source": [
    "x = Dog()"
   ]
  },
  {
   "cell_type": "code",
   "execution_count": 122,
   "id": "26fc4b83",
   "metadata": {},
   "outputs": [
    {
     "name": "stdout",
     "output_type": "stream",
     "text": [
      "Kennel\n"
     ]
    }
   ],
   "source": [
    "x.print_habitat()"
   ]
  },
  {
   "cell_type": "code",
   "execution_count": 123,
   "id": "fb629bee",
   "metadata": {},
   "outputs": [
    {
     "name": "stdout",
     "output_type": "stream",
     "text": [
      "woof woof! \n"
     ]
    }
   ],
   "source": [
    "x.sound()"
   ]
  },
  {
   "cell_type": "code",
   "execution_count": null,
   "id": "2961b5db",
   "metadata": {},
   "outputs": [],
   "source": []
  }
 ],
 "metadata": {
  "kernelspec": {
   "display_name": "Python 3 (ipykernel)",
   "language": "python",
   "name": "python3"
  },
  "language_info": {
   "codemirror_mode": {
    "name": "ipython",
    "version": 3
   },
   "file_extension": ".py",
   "mimetype": "text/x-python",
   "name": "python",
   "nbconvert_exporter": "python",
   "pygments_lexer": "ipython3",
   "version": "3.11.5"
  }
 },
 "nbformat": 4,
 "nbformat_minor": 5
}
